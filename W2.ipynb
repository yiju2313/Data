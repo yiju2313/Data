{
  "nbformat": 4,
  "nbformat_minor": 0,
  "metadata": {
    "colab": {
      "name": "S10959025賴怡均W2",
      "provenance": [],
      "collapsed_sections": [],
      "include_colab_link": true
    },
    "kernelspec": {
      "name": "ir",
      "display_name": "R"
    }
  },
  "cells": [
    {
      "cell_type": "markdown",
      "metadata": {
        "id": "view-in-github",
        "colab_type": "text"
      },
      "source": [
        "<a href=\"https://colab.research.google.com/github/yiju2313/Data/blob/master/S10959025%E8%B3%B4%E6%80%A1%E5%9D%87W2.ipynb\" target=\"_parent\"><img src=\"https://colab.research.google.com/assets/colab-badge.svg\" alt=\"Open In Colab\"/></a>"
      ]
    },
    {
      "cell_type": "code",
      "metadata": {
        "id": "AxQSQl9wWgXd",
        "colab_type": "code",
        "colab": {
          "base_uri": "https://localhost:8080/",
          "height": 34
        },
        "outputId": "7f26bb95-4b59-4b5e-b186-b22af7cb34ab"
      },
      "source": [
        "class(1352111225)"
      ],
      "execution_count": null,
      "outputs": [
        {
          "output_type": "display_data",
          "data": {
            "text/plain": [
              "[1] \"numeric\""
            ],
            "text/latex": "'numeric'",
            "text/markdown": "'numeric'",
            "text/html": [
              "'numeric'"
            ]
          },
          "metadata": {
            "tags": []
          }
        }
      ]
    },
    {
      "cell_type": "code",
      "metadata": {
        "id": "Uyd4PCt0XOVj",
        "colab_type": "code",
        "colab": {
          "base_uri": "https://localhost:8080/",
          "height": 34
        },
        "outputId": "d3a98435-4336-4607-991b-82bf62a3b7f8"
      },
      "source": [
        "class(\"hi\")"
      ],
      "execution_count": null,
      "outputs": [
        {
          "output_type": "display_data",
          "data": {
            "text/plain": [
              "[1] \"character\""
            ],
            "text/latex": "'character'",
            "text/markdown": "'character'",
            "text/html": [
              "'character'"
            ]
          },
          "metadata": {
            "tags": []
          }
        }
      ]
    },
    {
      "cell_type": "code",
      "metadata": {
        "id": "UFv5OPGUXTgX",
        "colab_type": "code",
        "colab": {
          "base_uri": "https://localhost:8080/",
          "height": 34
        },
        "outputId": "a51fb988-f306-4e2a-f2df-3f7c8297127d"
      },
      "source": [
        "class(12.56)"
      ],
      "execution_count": null,
      "outputs": [
        {
          "output_type": "display_data",
          "data": {
            "text/plain": [
              "[1] \"numeric\""
            ],
            "text/latex": "'numeric'",
            "text/markdown": "'numeric'",
            "text/html": [
              "'numeric'"
            ]
          },
          "metadata": {
            "tags": []
          }
        }
      ]
    },
    {
      "cell_type": "code",
      "metadata": {
        "id": "Rhj6NUp0XXp2",
        "colab_type": "code",
        "colab": {
          "base_uri": "https://localhost:8080/",
          "height": 34
        },
        "outputId": "34419fda-c373-498b-fd90-3766dbe767c7"
      },
      "source": [
        "15+165"
      ],
      "execution_count": null,
      "outputs": [
        {
          "output_type": "display_data",
          "data": {
            "text/plain": [
              "[1] 180"
            ],
            "text/latex": "180",
            "text/markdown": "180",
            "text/html": [
              "180"
            ]
          },
          "metadata": {
            "tags": []
          }
        }
      ]
    },
    {
      "cell_type": "code",
      "metadata": {
        "id": "6JMbsicOXrUZ",
        "colab_type": "code",
        "colab": {
          "base_uri": "https://localhost:8080/",
          "height": 34
        },
        "outputId": "77038203-0aa3-4d55-ae52-5666900be510"
      },
      "source": [
        "25/5"
      ],
      "execution_count": null,
      "outputs": [
        {
          "output_type": "display_data",
          "data": {
            "text/plain": [
              "[1] 5"
            ],
            "text/latex": "5",
            "text/markdown": "5",
            "text/html": [
              "5"
            ]
          },
          "metadata": {
            "tags": []
          }
        }
      ]
    },
    {
      "cell_type": "code",
      "metadata": {
        "id": "9ta9XFoCXto5",
        "colab_type": "code",
        "colab": {
          "base_uri": "https://localhost:8080/",
          "height": 34
        },
        "outputId": "7575adcc-03ed-4bf0-d44b-5fe6e48cfff2"
      },
      "source": [
        "25*5"
      ],
      "execution_count": null,
      "outputs": [
        {
          "output_type": "display_data",
          "data": {
            "text/plain": [
              "[1] 125"
            ],
            "text/latex": "125",
            "text/markdown": "125",
            "text/html": [
              "125"
            ]
          },
          "metadata": {
            "tags": []
          }
        }
      ]
    },
    {
      "cell_type": "code",
      "metadata": {
        "id": "RFg9uO6pYTr5",
        "colab_type": "code",
        "colab": {
          "base_uri": "https://localhost:8080/",
          "height": 34
        },
        "outputId": "2ad85016-1650-4e37-bc47-f1184c2bd98e"
      },
      "source": [
        "25+45 > 12+11"
      ],
      "execution_count": null,
      "outputs": [
        {
          "output_type": "display_data",
          "data": {
            "text/plain": [
              "[1] TRUE"
            ],
            "text/latex": "TRUE",
            "text/markdown": "TRUE",
            "text/html": [
              "TRUE"
            ]
          },
          "metadata": {
            "tags": []
          }
        }
      ]
    },
    {
      "cell_type": "code",
      "metadata": {
        "id": "BB6F5PfCYY7M",
        "colab_type": "code",
        "colab": {
          "base_uri": "https://localhost:8080/",
          "height": 34
        },
        "outputId": "6636f9b4-d098-4636-8eda-6467fa07c99f"
      },
      "source": [
        "high <- 165\n",
        "weight <- 53\n",
        "BMI <- weight /(high/100)^2\n",
        "BMI "
      ],
      "execution_count": null,
      "outputs": [
        {
          "output_type": "display_data",
          "data": {
            "text/plain": [
              "[1] 19.4674"
            ],
            "text/latex": "19.4674012855831",
            "text/markdown": "19.4674012855831",
            "text/html": [
              "19.4674012855831"
            ]
          },
          "metadata": {
            "tags": []
          }
        }
      ]
    },
    {
      "cell_type": "code",
      "metadata": {
        "id": "Bdu7zIMzZMFc",
        "colab_type": "code",
        "colab": {
          "base_uri": "https://localhost:8080/",
          "height": 34
        },
        "outputId": "3679c3f2-b1bb-4073-be57-1b6da8076f75"
      },
      "source": [
        "my_name <- \"YiJu\"\n",
        "my_name"
      ],
      "execution_count": null,
      "outputs": [
        {
          "output_type": "display_data",
          "data": {
            "text/plain": [
              "[1] \"YiJu\""
            ],
            "text/latex": "'YiJu'",
            "text/markdown": "'YiJu'",
            "text/html": [
              "'YiJu'"
            ]
          },
          "metadata": {
            "tags": []
          }
        }
      ]
    },
    {
      "cell_type": "code",
      "metadata": {
        "id": "1RZeTI-abi8R",
        "colab_type": "code",
        "colab": {
          "base_uri": "https://localhost:8080/",
          "height": 34
        },
        "outputId": "49b756fa-bec0-48ab-da9d-d99eac653b17"
      },
      "source": [
        "paste0(\"我是\",my_name,\n",
        "\",我的身高\",high,\n",
        "\",我的體重\",weight,\n",
        "\",我的BMI\",BMI)"
      ],
      "execution_count": null,
      "outputs": [
        {
          "output_type": "display_data",
          "data": {
            "text/plain": [
              "[1] \"我是YiJu,我的身高165,我的體重53,我的BMI19.4674012855831\""
            ],
            "text/latex": "'我是YiJu,我的身高165,我的體重53,我的BMI19.4674012855831'",
            "text/markdown": "'我是YiJu,我的身高165,我的體重53,我的BMI19.4674012855831'",
            "text/html": [
              "'我是YiJu,我的身高165,我的體重53,我的BMI19.4674012855831'"
            ]
          },
          "metadata": {
            "tags": []
          }
        }
      ]
    }
  ]
}
