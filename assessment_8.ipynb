{
  "nbformat": 4,
  "nbformat_minor": 0,
  "metadata": {
    "colab": {
      "name": "assessment 8",
      "provenance": [],
      "collapsed_sections": [],
      "include_colab_link": true
    },
    "kernelspec": {
      "name": "ir",
      "display_name": "R"
    }
  },
  "cells": [
    {
      "cell_type": "markdown",
      "metadata": {
        "id": "view-in-github",
        "colab_type": "text"
      },
      "source": [
        "<a href=\"https://colab.research.google.com/github/yiju2313/Data/blob/master/assessment_8.ipynb\" target=\"_parent\"><img src=\"https://colab.research.google.com/assets/colab-badge.svg\" alt=\"Open In Colab\"/></a>"
      ]
    },
    {
      "cell_type": "code",
      "metadata": {
        "id": "nCDXvW0yejUu",
        "outputId": "10d8581a-dcdb-4f03-f0ec-adf716fa437c",
        "colab": {
          "base_uri": "https://localhost:8080/"
        }
      },
      "source": [
        "install.packages(\"rJava\")\n",
        "install.packages(\"jiebaR\")\n",
        "install.packages(\"tmcn\")\n",
        "install.packages(\"dplyr\")\n",
        "install.packages(\"lubridate\")\n",
        "install.packages(\"stringr\")\n",
        "install.packages(\"wordcloud\")\n",
        "install.packages(\"Rwordseg\", repos = \"http://R-Forge.R-project.org\")"
      ],
      "execution_count": 3,
      "outputs": [
        {
          "output_type": "stream",
          "text": [
            "Installing package into ‘/usr/local/lib/R/site-library’\n",
            "(as ‘lib’ is unspecified)\n",
            "\n",
            "Installing package into ‘/usr/local/lib/R/site-library’\n",
            "(as ‘lib’ is unspecified)\n",
            "\n",
            "also installing the dependency ‘jiebaRD’\n",
            "\n",
            "\n",
            "Installing package into ‘/usr/local/lib/R/site-library’\n",
            "(as ‘lib’ is unspecified)\n",
            "\n",
            "Installing package into ‘/usr/local/lib/R/site-library’\n",
            "(as ‘lib’ is unspecified)\n",
            "\n",
            "Installing package into ‘/usr/local/lib/R/site-library’\n",
            "(as ‘lib’ is unspecified)\n",
            "\n",
            "Warning message in install.packages(\"lubridate\"):\n",
            "“installation of package ‘lubridate’ had non-zero exit status”\n",
            "Installing package into ‘/usr/local/lib/R/site-library’\n",
            "(as ‘lib’ is unspecified)\n",
            "\n",
            "Installing package into ‘/usr/local/lib/R/site-library’\n",
            "(as ‘lib’ is unspecified)\n",
            "\n",
            "Installing package into ‘/usr/local/lib/R/site-library’\n",
            "(as ‘lib’ is unspecified)\n",
            "\n",
            "Warning message:\n",
            "“dependency ‘HMM’ is not available”\n",
            "Warning message in install.packages(\"Rwordseg\", repos = \"http://R-Forge.R-project.org\"):\n",
            "“installation of package ‘Rwordseg’ had non-zero exit status”\n"
          ],
          "name": "stderr"
        }
      ]
    },
    {
      "cell_type": "code",
      "metadata": {
        "id": "UWYpd-z3fb0t",
        "outputId": "8a315540-b29a-42c8-aeef-9d99337e19a4",
        "colab": {
          "base_uri": "https://localhost:8080/"
        }
      },
      "source": [
        "library(\"dplyr\")\n",
        "library(\"lubridate\")\n",
        "library(\"stringr\")\n",
        "library(\"jiebaR\")\n",
        "library(\"wordcloud\")"
      ],
      "execution_count": 5,
      "outputs": [
        {
          "output_type": "stream",
          "text": [
            "\n",
            "Attaching package: ‘dplyr’\n",
            "\n",
            "\n",
            "The following objects are masked from ‘package:stats’:\n",
            "\n",
            "    filter, lag\n",
            "\n",
            "\n",
            "The following objects are masked from ‘package:base’:\n",
            "\n",
            "    intersect, setdiff, setequal, union\n",
            "\n",
            "\n",
            "\n",
            "Attaching package: ‘lubridate’\n",
            "\n",
            "\n",
            "The following objects are masked from ‘package:base’:\n",
            "\n",
            "    date, intersect, setdiff, union\n",
            "\n",
            "\n",
            "Loading required package: jiebaRD\n",
            "\n",
            "Loading required package: RColorBrewer\n",
            "\n"
          ],
          "name": "stderr"
        }
      ]
    },
    {
      "cell_type": "code",
      "metadata": {
        "id": "v6oOdSgufvtf"
      },
      "source": [
        "content <- \"看著飛舞的塵埃掉下來,沒人發現它存在多自由自在,可世界都愛熱熱鬧鬧,容不下我百無聊賴,不應該一個人發呆,只有我守著安靜的沙漠等待著花開,只有我看著別人的快樂竟然會感慨,就讓我聽著天大的道理不願意明白,有什麼是應該不應該,我的心裡住著一個蒼老的小孩如果世界聽不明白,對影子表白,是不是只有我還在問,為什麼明天更精彩,煙火裡找不到童真的殘骸,只有我守著安靜的沙漠等待著花開,只有我看著別人的快樂竟然會感慨,就讓我聽著天大的道理不願意明白,只有我就是我好奇怪我還在感慨,風陣陣吹過來為何不回來,風一去不回來悲不悲哀,麻木得那麼快應不應該,能不能慢下來,笑得開懷哭得坦率,為何表情要讓這世界安排,我就是我我只是我,只是一場煙火散落的塵埃,風陣陣吹過來,風一去不回來,能不能慢下來。抱著沙發睡眼昏花凌亂頭髮,卻渴望像電影主角一樣瀟灑,屋檐角下排著烏鴉密密麻麻被壓抑的情緒不知如何表達,無論我在這裡在那裡,彷彿失魂的蟲鳴,卻明白此刻應該做些努力,無論我在這裡在那裡,不能彌補的過去,每當想起,想過離開,以這種方式存在,是因為那些旁白那些姿態那些傷害,不想離開,當你說還有你在,忽然我開始莫名期待,夕陽西下翻著電話無人撥打,是習慣孤獨的我該得到的吧,獨木橋呀把誰推下才算贏家,我無聲的反抗何時能戰勝它,無論我在這裡在那裡,彷彿失魂的蟲鳴,卻明白此刻應該做些努力,無論我在這裡在那裡,不能彌補的過去,每當想起想過離開,以這種方式存在,是因為那些旁白那些姿態那些傷害,不想離開,也許嘗試過被愛,會開始仰望未來,傷疤就丟給回憶吧,放下才得到更好啊,別怕別怕,想過離開,當陽光敗給陰霾,沒想到你會拼命為我撥開,曾想過離開,卻又堅持到現在,熬過了那些旁白那些姿態那些傷害,不想離開,當你的笑容綻開,這世界突然填滿色彩,抱著沙發睡眼昏花凌亂頭髮,夕陽西下接通電話是你呀。\"\n",
        "\n",
        "cutter <- worker(bylines = F)"
      ],
      "execution_count": 8,
      "outputs": []
    },
    {
      "cell_type": "code",
      "metadata": {
        "id": "4met0nIggOz4",
        "outputId": "b2313f4a-f290-4fbf-8450-9c5a2e8aaed8",
        "colab": {
          "base_uri": "https://localhost:8080/",
          "height": 374
        }
      },
      "source": [
        "cutter[content]"
      ],
      "execution_count": 9,
      "outputs": [
        {
          "output_type": "display_data",
          "data": {
            "text/plain": [
              "  [1] \"看著\"     \"飛舞\"     \"的\"       \"塵埃\"     \"掉下來\"   \"沒人\"    \n",
              "  [7] \"發現\"     \"它\"       \"存在\"     \"多\"       \"自由自在\" \"可\"      \n",
              " [13] \"世界\"     \"都\"       \"愛\"       \"熱熱鬧鬧\" \"容不下\"   \"我\"      \n",
              " [19] \"百無聊賴\" \"不\"       \"應該\"     \"一個\"     \"人\"       \"發呆\"    \n",
              " [25] \"只有\"     \"我守著\"   \"安靜\"     \"的\"       \"沙漠\"     \"等待\"    \n",
              " [31] \"著花開\"   \"只有\"     \"我\"       \"看\"       \"著\"       \"別人\"    \n",
              " [37] \"的\"       \"快樂\"     \"竟然\"     \"會\"       \"感慨\"     \"就讓\"    \n",
              " [43] \"我\"       \"聽\"       \"著\"       \"天大\"     \"的\"       \"道理\"    \n",
              " [49] \"不\"       \"願意\"     \"明白\"     \"有\"       \"什麼\"     \"是\"      \n",
              " [55] \"應該\"     \"不\"       \"應該\"     \"我\"       \"的\"       \"心裡\"    \n",
              " [61] \"住\"       \"著\"       \"一個\"     \"蒼老\"     \"的\"       \"小孩\"    \n",
              " [67] \"如果\"     \"世界\"     \"聽\"       \"不\"       \"明白\"     \"對\"      \n",
              " [73] \"影子\"     \"表白\"     \"是不是\"   \"只有\"     \"我\"       \"還在問\"  \n",
              " [79] \"為\"       \"什麼\"     \"明天\"     \"更\"       \"精彩\"     \"煙火\"    \n",
              " [85] \"裡找\"     \"不到\"     \"童\"       \"真的\"     \"殘骸\"     \"只有\"    \n",
              " [91] \"我守著\"   \"安靜\"     \"的\"       \"沙漠\"     \"等待\"     \"著花開\"  \n",
              " [97] \"只有\"     \"我\"       \"看\"       \"著\"       \"別人\"     \"的\"      \n",
              "[103] \"快樂\"     \"竟然\"     \"會\"       \"感慨\"     \"就讓\"     \"我\"      \n",
              "[109] \"聽\"       \"著\"       \"天大\"     \"的\"       \"道理\"     \"不\"      \n",
              "[115] \"願意\"     \"明白\"     \"只有\"     \"我\"       \"就是\"     \"我\"      \n",
              "[121] \"好\"       \"奇怪\"     \"我\"       \"還在\"     \"感慨\"     \"風\"      \n",
              "[127] \"陣陣\"     \"吹過來\"   \"為\"       \"何不\"     \"回來\"     \"風一去\"  \n",
              "[133] \"不\"       \"回來\"     \"悲不\"     \"悲哀\"     \"麻木\"     \"得\"      \n",
              "[139] \"那麼\"     \"快\"       \"應不應該\" \"能\"       \"不能\"     \"慢下來\"  \n",
              "[145] \"笑\"       \"得\"       \"開懷\"     \"哭\"       \"得\"       \"坦率\"    \n",
              "[151] \"為何\"     \"表情\"     \"要\"       \"讓\"       \"這\"       \"世界\"    \n",
              "[157] \"安排\"     \"我\"       \"就是\"     \"我\"       \"我\"       \"只是\"    \n",
              "[163] \"我\"       \"只是\"     \"一場\"     \"煙火\"     \"散落\"     \"的\"      \n",
              "[169] \"塵埃\"     \"風\"       \"陣陣\"     \"吹過來\"   \"風一去\"   \"不\"      \n",
              "[175] \"回來\"     \"能\"       \"不能\"     \"慢下來\"   \"抱著\"     \"沙發\"    \n",
              "[181] \"睡眼\"     \"昏花\"     \"凌亂\"     \"頭髮\"     \"卻\"       \"渴望\"    \n",
              "[187] \"像\"       \"電影\"     \"主角\"     \"一樣\"     \"瀟灑\"     \"屋檐\"    \n",
              "[193] \"角下\"     \"排著\"     \"烏鴉\"     \"密密麻麻\" \"被\"       \"壓抑\"    \n",
              "[199] \"的\"       \"情緒\"     \"不知\"     \"如何\"     \"表達\"     \"無論\"    \n",
              "[205] \"我\"       \"在\"       \"這裡\"     \"在\"       \"那裡\"     \"彷彿\"    \n",
              "[211] \"失魂\"     \"的\"       \"蟲鳴\"     \"卻\"       \"明白\"     \"此刻\"    \n",
              "[217] \"應該\"     \"做些\"     \"努力\"     \"無論\"     \"我\"       \"在\"      \n",
              "[223] \"這裡\"     \"在\"       \"那裡\"     \"不能\"     \"彌補\"     \"的\"      \n",
              "[229] \"過去\"     \"每當\"     \"想起\"     \"想過\"     \"離開\"     \"以\"      \n",
              "[235] \"這種\"     \"方式\"     \"存在\"     \"是\"       \"因為\"     \"那些\"    \n",
              "[241] \"旁白\"     \"那些\"     \"姿態\"     \"那些\"     \"傷害\"     \"不想\"    \n",
              "[247] \"離開\"     \"當你說\"   \"還有\"     \"你\"       \"在\"       \"忽然\"    \n",
              "[253] \"我\"       \"開始\"     \"莫名\"     \"期待\"     \"夕陽西下\" \"翻著\"    \n",
              "[259] \"電話\"     \"無人\"     \"撥打\"     \"是\"       \"習慣\"     \"孤獨\"    \n",
              "[265] \"的\"       \"我\"       \"該\"       \"得到\"     \"的\"       \"吧\"      \n",
              "[271] \"獨木橋\"   \"呀\"       \"把\"       \"誰\"       \"推下\"     \"才\"      \n",
              "[277] \"算\"       \"贏家\"     \"我\"       \"無聲\"     \"的\"       \"反抗\"    \n",
              "[283] \"何時能\"   \"戰勝\"     \"它\"       \"無論\"     \"我\"       \"在\"      \n",
              "[289] \"這裡\"     \"在\"       \"那裡\"     \"彷彿\"     \"失魂\"     \"的\"      \n",
              "[295] \"蟲鳴\"     \"卻\"       \"明白\"     \"此刻\"     \"應該\"     \"做些\"    \n",
              "[301] \"努力\"     \"無論\"     \"我\"       \"在\"       \"這裡\"     \"在\"      \n",
              "[307] \"那裡\"     \"不能\"     \"彌補\"     \"的\"       \"過去\"     \"每當\"    \n",
              "[313] \"想起\"     \"想過\"     \"離開\"     \"以\"       \"這種\"     \"方式\"    \n",
              "[319] \"存在\"     \"是\"       \"因為\"     \"那些\"     \"旁白\"     \"那些\"    \n",
              "[325] \"姿態\"     \"那些\"     \"傷害\"     \"不想\"     \"離開\"     \"也許\"    \n",
              "[331] \"嘗試\"     \"過被\"     \"愛\"       \"會\"       \"開始\"     \"仰望\"    \n",
              "[337] \"未來\"     \"傷疤\"     \"就\"       \"丟給\"     \"回憶\"     \"吧\"      \n",
              "[343] \"放下\"     \"才\"       \"得到\"     \"更好\"     \"啊\"       \"別怕\"    \n",
              "[349] \"別怕\"     \"想過\"     \"離開\"     \"當\"       \"陽光\"     \"敗給\"    \n",
              "[355] \"陰霾\"     \"沒想到\"   \"你\"       \"會\"       \"拼命\"     \"為\"      \n",
              "[361] \"我\"       \"撥開\"     \"曾想過\"   \"離開\"     \"卻\"       \"又\"      \n",
              "[367] \"堅持\"     \"到\"       \"現在\"     \"熬過\"     \"了\"       \"那些\"    \n",
              "[373] \"旁白\"     \"那些\"     \"姿態\"     \"那些\"     \"傷害\"     \"不想\"    \n",
              "[379] \"離開\"     \"當你\"     \"的\"       \"笑容\"     \"綻開\"     \"這\"      \n",
              "[385] \"世界\"     \"突然\"     \"填滿\"     \"色彩\"     \"抱著\"     \"沙發\"    \n",
              "[391] \"睡眼\"     \"昏花\"     \"凌亂\"     \"頭髮\"     \"夕陽西下\" \"接通\"    \n",
              "[397] \"電話\"     \"是\"       \"你\"       \"呀\"      "
            ],
            "text/latex": "\\begin{enumerate*}\n\\item '看著'\n\\item '飛舞'\n\\item '的'\n\\item '塵埃'\n\\item '掉下來'\n\\item '沒人'\n\\item '發現'\n\\item '它'\n\\item '存在'\n\\item '多'\n\\item '自由自在'\n\\item '可'\n\\item '世界'\n\\item '都'\n\\item '愛'\n\\item '熱熱鬧鬧'\n\\item '容不下'\n\\item '我'\n\\item '百無聊賴'\n\\item '不'\n\\item '應該'\n\\item '一個'\n\\item '人'\n\\item '發呆'\n\\item '只有'\n\\item '我守著'\n\\item '安靜'\n\\item '的'\n\\item '沙漠'\n\\item '等待'\n\\item '著花開'\n\\item '只有'\n\\item '我'\n\\item '看'\n\\item '著'\n\\item '別人'\n\\item '的'\n\\item '快樂'\n\\item '竟然'\n\\item '會'\n\\item '感慨'\n\\item '就讓'\n\\item '我'\n\\item '聽'\n\\item '著'\n\\item '天大'\n\\item '的'\n\\item '道理'\n\\item '不'\n\\item '願意'\n\\item '明白'\n\\item '有'\n\\item '什麼'\n\\item '是'\n\\item '應該'\n\\item '不'\n\\item '應該'\n\\item '我'\n\\item '的'\n\\item '心裡'\n\\item '住'\n\\item '著'\n\\item '一個'\n\\item '蒼老'\n\\item '的'\n\\item '小孩'\n\\item '如果'\n\\item '世界'\n\\item '聽'\n\\item '不'\n\\item '明白'\n\\item '對'\n\\item '影子'\n\\item '表白'\n\\item '是不是'\n\\item '只有'\n\\item '我'\n\\item '還在問'\n\\item '為'\n\\item '什麼'\n\\item '明天'\n\\item '更'\n\\item '精彩'\n\\item '煙火'\n\\item '裡找'\n\\item '不到'\n\\item '童'\n\\item '真的'\n\\item '殘骸'\n\\item '只有'\n\\item '我守著'\n\\item '安靜'\n\\item '的'\n\\item '沙漠'\n\\item '等待'\n\\item '著花開'\n\\item '只有'\n\\item '我'\n\\item '看'\n\\item '著'\n\\item '別人'\n\\item '的'\n\\item '快樂'\n\\item '竟然'\n\\item '會'\n\\item '感慨'\n\\item '就讓'\n\\item '我'\n\\item '聽'\n\\item '著'\n\\item '天大'\n\\item '的'\n\\item '道理'\n\\item '不'\n\\item '願意'\n\\item '明白'\n\\item '只有'\n\\item '我'\n\\item '就是'\n\\item '我'\n\\item '好'\n\\item '奇怪'\n\\item '我'\n\\item '還在'\n\\item '感慨'\n\\item '風'\n\\item '陣陣'\n\\item '吹過來'\n\\item '為'\n\\item '何不'\n\\item '回來'\n\\item '風一去'\n\\item '不'\n\\item '回來'\n\\item '悲不'\n\\item '悲哀'\n\\item '麻木'\n\\item '得'\n\\item '那麼'\n\\item '快'\n\\item '應不應該'\n\\item '能'\n\\item '不能'\n\\item '慢下來'\n\\item '笑'\n\\item '得'\n\\item '開懷'\n\\item '哭'\n\\item '得'\n\\item '坦率'\n\\item '為何'\n\\item '表情'\n\\item '要'\n\\item '讓'\n\\item '這'\n\\item '世界'\n\\item '安排'\n\\item '我'\n\\item '就是'\n\\item '我'\n\\item '我'\n\\item '只是'\n\\item '我'\n\\item '只是'\n\\item '一場'\n\\item '煙火'\n\\item '散落'\n\\item '的'\n\\item '塵埃'\n\\item '風'\n\\item '陣陣'\n\\item '吹過來'\n\\item '風一去'\n\\item '不'\n\\item '回來'\n\\item '能'\n\\item '不能'\n\\item '慢下來'\n\\item '抱著'\n\\item '沙發'\n\\item '睡眼'\n\\item '昏花'\n\\item '凌亂'\n\\item '頭髮'\n\\item '卻'\n\\item '渴望'\n\\item '像'\n\\item '電影'\n\\item '主角'\n\\item '一樣'\n\\item '瀟灑'\n\\item '屋檐'\n\\item '角下'\n\\item '排著'\n\\item '烏鴉'\n\\item '密密麻麻'\n\\item '被'\n\\item '壓抑'\n\\item '的'\n\\item '情緒'\n\\item '不知'\n\\item '如何'\n\\item '表達'\n\\item '無論'\n\\item '我'\n\\item '在'\n\\item '這裡'\n\\item '在'\n\\item '那裡'\n\\item '彷彿'\n\\item '失魂'\n\\item '的'\n\\item '蟲鳴'\n\\item '卻'\n\\item '明白'\n\\item '此刻'\n\\item '應該'\n\\item '做些'\n\\item '努力'\n\\item '無論'\n\\item '我'\n\\item '在'\n\\item '這裡'\n\\item '在'\n\\item '那裡'\n\\item '不能'\n\\item '彌補'\n\\item '的'\n\\item '過去'\n\\item '每當'\n\\item '想起'\n\\item '想過'\n\\item '離開'\n\\item '以'\n\\item '這種'\n\\item '方式'\n\\item '存在'\n\\item '是'\n\\item '因為'\n\\item '那些'\n\\item '旁白'\n\\item '那些'\n\\item '姿態'\n\\item '那些'\n\\item '傷害'\n\\item '不想'\n\\item '離開'\n\\item '當你說'\n\\item '還有'\n\\item '你'\n\\item '在'\n\\item '忽然'\n\\item '我'\n\\item '開始'\n\\item '莫名'\n\\item '期待'\n\\item '夕陽西下'\n\\item '翻著'\n\\item '電話'\n\\item '無人'\n\\item '撥打'\n\\item '是'\n\\item '習慣'\n\\item '孤獨'\n\\item '的'\n\\item '我'\n\\item '該'\n\\item '得到'\n\\item '的'\n\\item '吧'\n\\item '獨木橋'\n\\item '呀'\n\\item '把'\n\\item '誰'\n\\item '推下'\n\\item '才'\n\\item '算'\n\\item '贏家'\n\\item '我'\n\\item '無聲'\n\\item '的'\n\\item '反抗'\n\\item '何時能'\n\\item '戰勝'\n\\item '它'\n\\item '無論'\n\\item '我'\n\\item '在'\n\\item '這裡'\n\\item '在'\n\\item '那裡'\n\\item '彷彿'\n\\item '失魂'\n\\item '的'\n\\item '蟲鳴'\n\\item '卻'\n\\item '明白'\n\\item '此刻'\n\\item '應該'\n\\item '做些'\n\\item '努力'\n\\item '無論'\n\\item '我'\n\\item '在'\n\\item '這裡'\n\\item '在'\n\\item '那裡'\n\\item '不能'\n\\item '彌補'\n\\item '的'\n\\item '過去'\n\\item '每當'\n\\item '想起'\n\\item '想過'\n\\item '離開'\n\\item '以'\n\\item '這種'\n\\item '方式'\n\\item '存在'\n\\item '是'\n\\item '因為'\n\\item '那些'\n\\item '旁白'\n\\item '那些'\n\\item '姿態'\n\\item '那些'\n\\item '傷害'\n\\item '不想'\n\\item '離開'\n\\item '也許'\n\\item '嘗試'\n\\item '過被'\n\\item '愛'\n\\item '會'\n\\item '開始'\n\\item '仰望'\n\\item '未來'\n\\item '傷疤'\n\\item '就'\n\\item '丟給'\n\\item '回憶'\n\\item '吧'\n\\item '放下'\n\\item '才'\n\\item '得到'\n\\item '更好'\n\\item '啊'\n\\item '別怕'\n\\item '別怕'\n\\item '想過'\n\\item '離開'\n\\item '當'\n\\item '陽光'\n\\item '敗給'\n\\item '陰霾'\n\\item '沒想到'\n\\item '你'\n\\item '會'\n\\item '拼命'\n\\item '為'\n\\item '我'\n\\item '撥開'\n\\item '曾想過'\n\\item '離開'\n\\item '卻'\n\\item '又'\n\\item '堅持'\n\\item '到'\n\\item '現在'\n\\item '熬過'\n\\item '了'\n\\item '那些'\n\\item '旁白'\n\\item '那些'\n\\item '姿態'\n\\item '那些'\n\\item '傷害'\n\\item '不想'\n\\item '離開'\n\\item '當你'\n\\item '的'\n\\item '笑容'\n\\item '綻開'\n\\item '這'\n\\item '世界'\n\\item '突然'\n\\item '填滿'\n\\item '色彩'\n\\item '抱著'\n\\item '沙發'\n\\item '睡眼'\n\\item '昏花'\n\\item '凌亂'\n\\item '頭髮'\n\\item '夕陽西下'\n\\item '接通'\n\\item '電話'\n\\item '是'\n\\item '你'\n\\item '呀'\n\\end{enumerate*}\n",
            "text/markdown": "1. '看著'\n2. '飛舞'\n3. '的'\n4. '塵埃'\n5. '掉下來'\n6. '沒人'\n7. '發現'\n8. '它'\n9. '存在'\n10. '多'\n11. '自由自在'\n12. '可'\n13. '世界'\n14. '都'\n15. '愛'\n16. '熱熱鬧鬧'\n17. '容不下'\n18. '我'\n19. '百無聊賴'\n20. '不'\n21. '應該'\n22. '一個'\n23. '人'\n24. '發呆'\n25. '只有'\n26. '我守著'\n27. '安靜'\n28. '的'\n29. '沙漠'\n30. '等待'\n31. '著花開'\n32. '只有'\n33. '我'\n34. '看'\n35. '著'\n36. '別人'\n37. '的'\n38. '快樂'\n39. '竟然'\n40. '會'\n41. '感慨'\n42. '就讓'\n43. '我'\n44. '聽'\n45. '著'\n46. '天大'\n47. '的'\n48. '道理'\n49. '不'\n50. '願意'\n51. '明白'\n52. '有'\n53. '什麼'\n54. '是'\n55. '應該'\n56. '不'\n57. '應該'\n58. '我'\n59. '的'\n60. '心裡'\n61. '住'\n62. '著'\n63. '一個'\n64. '蒼老'\n65. '的'\n66. '小孩'\n67. '如果'\n68. '世界'\n69. '聽'\n70. '不'\n71. '明白'\n72. '對'\n73. '影子'\n74. '表白'\n75. '是不是'\n76. '只有'\n77. '我'\n78. '還在問'\n79. '為'\n80. '什麼'\n81. '明天'\n82. '更'\n83. '精彩'\n84. '煙火'\n85. '裡找'\n86. '不到'\n87. '童'\n88. '真的'\n89. '殘骸'\n90. '只有'\n91. '我守著'\n92. '安靜'\n93. '的'\n94. '沙漠'\n95. '等待'\n96. '著花開'\n97. '只有'\n98. '我'\n99. '看'\n100. '著'\n101. '別人'\n102. '的'\n103. '快樂'\n104. '竟然'\n105. '會'\n106. '感慨'\n107. '就讓'\n108. '我'\n109. '聽'\n110. '著'\n111. '天大'\n112. '的'\n113. '道理'\n114. '不'\n115. '願意'\n116. '明白'\n117. '只有'\n118. '我'\n119. '就是'\n120. '我'\n121. '好'\n122. '奇怪'\n123. '我'\n124. '還在'\n125. '感慨'\n126. '風'\n127. '陣陣'\n128. '吹過來'\n129. '為'\n130. '何不'\n131. '回來'\n132. '風一去'\n133. '不'\n134. '回來'\n135. '悲不'\n136. '悲哀'\n137. '麻木'\n138. '得'\n139. '那麼'\n140. '快'\n141. '應不應該'\n142. '能'\n143. '不能'\n144. '慢下來'\n145. '笑'\n146. '得'\n147. '開懷'\n148. '哭'\n149. '得'\n150. '坦率'\n151. '為何'\n152. '表情'\n153. '要'\n154. '讓'\n155. '這'\n156. '世界'\n157. '安排'\n158. '我'\n159. '就是'\n160. '我'\n161. '我'\n162. '只是'\n163. '我'\n164. '只是'\n165. '一場'\n166. '煙火'\n167. '散落'\n168. '的'\n169. '塵埃'\n170. '風'\n171. '陣陣'\n172. '吹過來'\n173. '風一去'\n174. '不'\n175. '回來'\n176. '能'\n177. '不能'\n178. '慢下來'\n179. '抱著'\n180. '沙發'\n181. '睡眼'\n182. '昏花'\n183. '凌亂'\n184. '頭髮'\n185. '卻'\n186. '渴望'\n187. '像'\n188. '電影'\n189. '主角'\n190. '一樣'\n191. '瀟灑'\n192. '屋檐'\n193. '角下'\n194. '排著'\n195. '烏鴉'\n196. '密密麻麻'\n197. '被'\n198. '壓抑'\n199. '的'\n200. '情緒'\n201. '不知'\n202. '如何'\n203. '表達'\n204. '無論'\n205. '我'\n206. '在'\n207. '這裡'\n208. '在'\n209. '那裡'\n210. '彷彿'\n211. '失魂'\n212. '的'\n213. '蟲鳴'\n214. '卻'\n215. '明白'\n216. '此刻'\n217. '應該'\n218. '做些'\n219. '努力'\n220. '無論'\n221. '我'\n222. '在'\n223. '這裡'\n224. '在'\n225. '那裡'\n226. '不能'\n227. '彌補'\n228. '的'\n229. '過去'\n230. '每當'\n231. '想起'\n232. '想過'\n233. '離開'\n234. '以'\n235. '這種'\n236. '方式'\n237. '存在'\n238. '是'\n239. '因為'\n240. '那些'\n241. '旁白'\n242. '那些'\n243. '姿態'\n244. '那些'\n245. '傷害'\n246. '不想'\n247. '離開'\n248. '當你說'\n249. '還有'\n250. '你'\n251. '在'\n252. '忽然'\n253. '我'\n254. '開始'\n255. '莫名'\n256. '期待'\n257. '夕陽西下'\n258. '翻著'\n259. '電話'\n260. '無人'\n261. '撥打'\n262. '是'\n263. '習慣'\n264. '孤獨'\n265. '的'\n266. '我'\n267. '該'\n268. '得到'\n269. '的'\n270. '吧'\n271. '獨木橋'\n272. '呀'\n273. '把'\n274. '誰'\n275. '推下'\n276. '才'\n277. '算'\n278. '贏家'\n279. '我'\n280. '無聲'\n281. '的'\n282. '反抗'\n283. '何時能'\n284. '戰勝'\n285. '它'\n286. '無論'\n287. '我'\n288. '在'\n289. '這裡'\n290. '在'\n291. '那裡'\n292. '彷彿'\n293. '失魂'\n294. '的'\n295. '蟲鳴'\n296. '卻'\n297. '明白'\n298. '此刻'\n299. '應該'\n300. '做些'\n301. '努力'\n302. '無論'\n303. '我'\n304. '在'\n305. '這裡'\n306. '在'\n307. '那裡'\n308. '不能'\n309. '彌補'\n310. '的'\n311. '過去'\n312. '每當'\n313. '想起'\n314. '想過'\n315. '離開'\n316. '以'\n317. '這種'\n318. '方式'\n319. '存在'\n320. '是'\n321. '因為'\n322. '那些'\n323. '旁白'\n324. '那些'\n325. '姿態'\n326. '那些'\n327. '傷害'\n328. '不想'\n329. '離開'\n330. '也許'\n331. '嘗試'\n332. '過被'\n333. '愛'\n334. '會'\n335. '開始'\n336. '仰望'\n337. '未來'\n338. '傷疤'\n339. '就'\n340. '丟給'\n341. '回憶'\n342. '吧'\n343. '放下'\n344. '才'\n345. '得到'\n346. '更好'\n347. '啊'\n348. '別怕'\n349. '別怕'\n350. '想過'\n351. '離開'\n352. '當'\n353. '陽光'\n354. '敗給'\n355. '陰霾'\n356. '沒想到'\n357. '你'\n358. '會'\n359. '拼命'\n360. '為'\n361. '我'\n362. '撥開'\n363. '曾想過'\n364. '離開'\n365. '卻'\n366. '又'\n367. '堅持'\n368. '到'\n369. '現在'\n370. '熬過'\n371. '了'\n372. '那些'\n373. '旁白'\n374. '那些'\n375. '姿態'\n376. '那些'\n377. '傷害'\n378. '不想'\n379. '離開'\n380. '當你'\n381. '的'\n382. '笑容'\n383. '綻開'\n384. '這'\n385. '世界'\n386. '突然'\n387. '填滿'\n388. '色彩'\n389. '抱著'\n390. '沙發'\n391. '睡眼'\n392. '昏花'\n393. '凌亂'\n394. '頭髮'\n395. '夕陽西下'\n396. '接通'\n397. '電話'\n398. '是'\n399. '你'\n400. '呀'\n\n\n",
            "text/html": [
              "<style>\n",
              ".list-inline {list-style: none; margin:0; padding: 0}\n",
              ".list-inline>li {display: inline-block}\n",
              ".list-inline>li:not(:last-child)::after {content: \"\\00b7\"; padding: 0 .5ex}\n",
              "</style>\n",
              "<ol class=list-inline><li>'看著'</li><li>'飛舞'</li><li>'的'</li><li>'塵埃'</li><li>'掉下來'</li><li>'沒人'</li><li>'發現'</li><li>'它'</li><li>'存在'</li><li>'多'</li><li>'自由自在'</li><li>'可'</li><li>'世界'</li><li>'都'</li><li>'愛'</li><li>'熱熱鬧鬧'</li><li>'容不下'</li><li>'我'</li><li>'百無聊賴'</li><li>'不'</li><li>'應該'</li><li>'一個'</li><li>'人'</li><li>'發呆'</li><li>'只有'</li><li>'我守著'</li><li>'安靜'</li><li>'的'</li><li>'沙漠'</li><li>'等待'</li><li>'著花開'</li><li>'只有'</li><li>'我'</li><li>'看'</li><li>'著'</li><li>'別人'</li><li>'的'</li><li>'快樂'</li><li>'竟然'</li><li>'會'</li><li>'感慨'</li><li>'就讓'</li><li>'我'</li><li>'聽'</li><li>'著'</li><li>'天大'</li><li>'的'</li><li>'道理'</li><li>'不'</li><li>'願意'</li><li>'明白'</li><li>'有'</li><li>'什麼'</li><li>'是'</li><li>'應該'</li><li>'不'</li><li>'應該'</li><li>'我'</li><li>'的'</li><li>'心裡'</li><li>'住'</li><li>'著'</li><li>'一個'</li><li>'蒼老'</li><li>'的'</li><li>'小孩'</li><li>'如果'</li><li>'世界'</li><li>'聽'</li><li>'不'</li><li>'明白'</li><li>'對'</li><li>'影子'</li><li>'表白'</li><li>'是不是'</li><li>'只有'</li><li>'我'</li><li>'還在問'</li><li>'為'</li><li>'什麼'</li><li>'明天'</li><li>'更'</li><li>'精彩'</li><li>'煙火'</li><li>'裡找'</li><li>'不到'</li><li>'童'</li><li>'真的'</li><li>'殘骸'</li><li>'只有'</li><li>'我守著'</li><li>'安靜'</li><li>'的'</li><li>'沙漠'</li><li>'等待'</li><li>'著花開'</li><li>'只有'</li><li>'我'</li><li>'看'</li><li>'著'</li><li>'別人'</li><li>'的'</li><li>'快樂'</li><li>'竟然'</li><li>'會'</li><li>'感慨'</li><li>'就讓'</li><li>'我'</li><li>'聽'</li><li>'著'</li><li>'天大'</li><li>'的'</li><li>'道理'</li><li>'不'</li><li>'願意'</li><li>'明白'</li><li>'只有'</li><li>'我'</li><li>'就是'</li><li>'我'</li><li>'好'</li><li>'奇怪'</li><li>'我'</li><li>'還在'</li><li>'感慨'</li><li>'風'</li><li>'陣陣'</li><li>'吹過來'</li><li>'為'</li><li>'何不'</li><li>'回來'</li><li>'風一去'</li><li>'不'</li><li>'回來'</li><li>'悲不'</li><li>'悲哀'</li><li>'麻木'</li><li>'得'</li><li>'那麼'</li><li>'快'</li><li>'應不應該'</li><li>'能'</li><li>'不能'</li><li>'慢下來'</li><li>'笑'</li><li>'得'</li><li>'開懷'</li><li>'哭'</li><li>'得'</li><li>'坦率'</li><li>'為何'</li><li>'表情'</li><li>'要'</li><li>'讓'</li><li>'這'</li><li>'世界'</li><li>'安排'</li><li>'我'</li><li>'就是'</li><li>'我'</li><li>'我'</li><li>'只是'</li><li>'我'</li><li>'只是'</li><li>'一場'</li><li>'煙火'</li><li>'散落'</li><li>'的'</li><li>'塵埃'</li><li>'風'</li><li>'陣陣'</li><li>'吹過來'</li><li>'風一去'</li><li>'不'</li><li>'回來'</li><li>'能'</li><li>'不能'</li><li>'慢下來'</li><li>'抱著'</li><li>'沙發'</li><li>'睡眼'</li><li>'昏花'</li><li>'凌亂'</li><li>'頭髮'</li><li>'卻'</li><li>'渴望'</li><li>'像'</li><li>'電影'</li><li>'主角'</li><li>'一樣'</li><li>'瀟灑'</li><li>'屋檐'</li><li>'角下'</li><li>'排著'</li><li>'烏鴉'</li><li>'密密麻麻'</li><li>'被'</li><li>'壓抑'</li><li>'的'</li><li>'情緒'</li><li>'不知'</li><li>'如何'</li><li>'表達'</li><li>'無論'</li><li>'我'</li><li>'在'</li><li>'這裡'</li><li>'在'</li><li>'那裡'</li><li>'彷彿'</li><li>'失魂'</li><li>'的'</li><li>'蟲鳴'</li><li>'卻'</li><li>'明白'</li><li>'此刻'</li><li>'應該'</li><li>'做些'</li><li>'努力'</li><li>'無論'</li><li>'我'</li><li>'在'</li><li>'這裡'</li><li>'在'</li><li>'那裡'</li><li>'不能'</li><li>'彌補'</li><li>'的'</li><li>'過去'</li><li>'每當'</li><li>'想起'</li><li>'想過'</li><li>'離開'</li><li>'以'</li><li>'這種'</li><li>'方式'</li><li>'存在'</li><li>'是'</li><li>'因為'</li><li>'那些'</li><li>'旁白'</li><li>'那些'</li><li>'姿態'</li><li>'那些'</li><li>'傷害'</li><li>'不想'</li><li>'離開'</li><li>'當你說'</li><li>'還有'</li><li>'你'</li><li>'在'</li><li>'忽然'</li><li>'我'</li><li>'開始'</li><li>'莫名'</li><li>'期待'</li><li>'夕陽西下'</li><li>'翻著'</li><li>'電話'</li><li>'無人'</li><li>'撥打'</li><li>'是'</li><li>'習慣'</li><li>'孤獨'</li><li>'的'</li><li>'我'</li><li>'該'</li><li>'得到'</li><li>'的'</li><li>'吧'</li><li>'獨木橋'</li><li>'呀'</li><li>'把'</li><li>'誰'</li><li>'推下'</li><li>'才'</li><li>'算'</li><li>'贏家'</li><li>'我'</li><li>'無聲'</li><li>'的'</li><li>'反抗'</li><li>'何時能'</li><li>'戰勝'</li><li>'它'</li><li>'無論'</li><li>'我'</li><li>'在'</li><li>'這裡'</li><li>'在'</li><li>'那裡'</li><li>'彷彿'</li><li>'失魂'</li><li>'的'</li><li>'蟲鳴'</li><li>'卻'</li><li>'明白'</li><li>'此刻'</li><li>'應該'</li><li>'做些'</li><li>'努力'</li><li>'無論'</li><li>'我'</li><li>'在'</li><li>'這裡'</li><li>'在'</li><li>'那裡'</li><li>'不能'</li><li>'彌補'</li><li>'的'</li><li>'過去'</li><li>'每當'</li><li>'想起'</li><li>'想過'</li><li>'離開'</li><li>'以'</li><li>'這種'</li><li>'方式'</li><li>'存在'</li><li>'是'</li><li>'因為'</li><li>'那些'</li><li>'旁白'</li><li>'那些'</li><li>'姿態'</li><li>'那些'</li><li>'傷害'</li><li>'不想'</li><li>'離開'</li><li>'也許'</li><li>'嘗試'</li><li>'過被'</li><li>'愛'</li><li>'會'</li><li>'開始'</li><li>'仰望'</li><li>'未來'</li><li>'傷疤'</li><li>'就'</li><li>'丟給'</li><li>'回憶'</li><li>'吧'</li><li>'放下'</li><li>'才'</li><li>'得到'</li><li>'更好'</li><li>'啊'</li><li>'別怕'</li><li>'別怕'</li><li>'想過'</li><li>'離開'</li><li>'當'</li><li>'陽光'</li><li>'敗給'</li><li>'陰霾'</li><li>'沒想到'</li><li>'你'</li><li>'會'</li><li>'拼命'</li><li>'為'</li><li>'我'</li><li>'撥開'</li><li>'曾想過'</li><li>'離開'</li><li>'卻'</li><li>'又'</li><li>'堅持'</li><li>'到'</li><li>'現在'</li><li>'熬過'</li><li>'了'</li><li>'那些'</li><li>'旁白'</li><li>'那些'</li><li>'姿態'</li><li>'那些'</li><li>'傷害'</li><li>'不想'</li><li>'離開'</li><li>'當你'</li><li>'的'</li><li>'笑容'</li><li>'綻開'</li><li>'這'</li><li>'世界'</li><li>'突然'</li><li>'填滿'</li><li>'色彩'</li><li>'抱著'</li><li>'沙發'</li><li>'睡眼'</li><li>'昏花'</li><li>'凌亂'</li><li>'頭髮'</li><li>'夕陽西下'</li><li>'接通'</li><li>'電話'</li><li>'是'</li><li>'你'</li><li>'呀'</li></ol>\n"
            ]
          },
          "metadata": {
            "tags": []
          }
        }
      ]
    },
    {
      "cell_type": "code",
      "metadata": {
        "id": "7lElmG2Kg7kG",
        "outputId": "6a96713d-d255-4a68-f2f7-05343ee5a909",
        "colab": {
          "base_uri": "https://localhost:8080/",
          "height": 374
        }
      },
      "source": [
        "new_words <- c(\"不應該\",\"一個人\",\"看著\"，\"聽著\"，\"有什麼\"，)\n",
        "\n",
        "for(i in 1:length(new_words))\n",
        "{\n",
        "  new_user_word(cutter, new_words[i])\n",
        "}\n",
        "\n",
        "content <- str_remove_all(content, \"[0-9a-zA-Z]+?\")\n",
        "cutter[content]"
      ],
      "execution_count": 10,
      "outputs": [
        {
          "output_type": "display_data",
          "data": {
            "text/plain": [
              "  [1] \"看著\"     \"飛舞\"     \"的\"       \"塵埃\"     \"掉下來\"   \"沒人\"    \n",
              "  [7] \"發現\"     \"它\"       \"存在\"     \"多\"       \"自由自在\" \"可\"      \n",
              " [13] \"世界\"     \"都\"       \"愛\"       \"熱熱鬧鬧\" \"容不下\"   \"我\"      \n",
              " [19] \"百無聊賴\" \"不\"       \"應該\"     \"一個\"     \"人\"       \"發呆\"    \n",
              " [25] \"只有\"     \"我守著\"   \"安靜\"     \"的\"       \"沙漠\"     \"等待\"    \n",
              " [31] \"著花開\"   \"只有\"     \"我\"       \"看\"       \"著\"       \"別人\"    \n",
              " [37] \"的\"       \"快樂\"     \"竟然\"     \"會\"       \"感慨\"     \"就讓\"    \n",
              " [43] \"我\"       \"聽\"       \"著\"       \"天大\"     \"的\"       \"道理\"    \n",
              " [49] \"不\"       \"願意\"     \"明白\"     \"有\"       \"什麼\"     \"是\"      \n",
              " [55] \"應該\"     \"不\"       \"應該\"     \"我\"       \"的\"       \"心裡\"    \n",
              " [61] \"住\"       \"著\"       \"一個\"     \"蒼老\"     \"的\"       \"小孩\"    \n",
              " [67] \"如果\"     \"世界\"     \"聽\"       \"不\"       \"明白\"     \"對\"      \n",
              " [73] \"影子\"     \"表白\"     \"是不是\"   \"只有\"     \"我\"       \"還在問\"  \n",
              " [79] \"為\"       \"什麼\"     \"明天\"     \"更\"       \"精彩\"     \"煙火\"    \n",
              " [85] \"裡找\"     \"不到\"     \"童\"       \"真的\"     \"殘骸\"     \"只有\"    \n",
              " [91] \"我守著\"   \"安靜\"     \"的\"       \"沙漠\"     \"等待\"     \"著花開\"  \n",
              " [97] \"只有\"     \"我\"       \"看\"       \"著\"       \"別人\"     \"的\"      \n",
              "[103] \"快樂\"     \"竟然\"     \"會\"       \"感慨\"     \"就讓\"     \"我\"      \n",
              "[109] \"聽\"       \"著\"       \"天大\"     \"的\"       \"道理\"     \"不\"      \n",
              "[115] \"願意\"     \"明白\"     \"只有\"     \"我\"       \"就是\"     \"我\"      \n",
              "[121] \"好\"       \"奇怪\"     \"我\"       \"還在\"     \"感慨\"     \"風\"      \n",
              "[127] \"陣陣\"     \"吹過來\"   \"為\"       \"何不\"     \"回來\"     \"風一去\"  \n",
              "[133] \"不\"       \"回來\"     \"悲不\"     \"悲哀\"     \"麻木\"     \"得\"      \n",
              "[139] \"那麼\"     \"快\"       \"應不應該\" \"能\"       \"不能\"     \"慢下來\"  \n",
              "[145] \"笑\"       \"得\"       \"開懷\"     \"哭\"       \"得\"       \"坦率\"    \n",
              "[151] \"為何\"     \"表情\"     \"要\"       \"讓\"       \"這\"       \"世界\"    \n",
              "[157] \"安排\"     \"我\"       \"就是\"     \"我\"       \"我\"       \"只是\"    \n",
              "[163] \"我\"       \"只是\"     \"一場\"     \"煙火\"     \"散落\"     \"的\"      \n",
              "[169] \"塵埃\"     \"風\"       \"陣陣\"     \"吹過來\"   \"風一去\"   \"不\"      \n",
              "[175] \"回來\"     \"能\"       \"不能\"     \"慢下來\"   \"抱著\"     \"沙發\"    \n",
              "[181] \"睡眼\"     \"昏花\"     \"凌亂\"     \"頭髮\"     \"卻\"       \"渴望\"    \n",
              "[187] \"像\"       \"電影\"     \"主角\"     \"一樣\"     \"瀟灑\"     \"屋檐\"    \n",
              "[193] \"角下\"     \"排著\"     \"烏鴉\"     \"密密麻麻\" \"被\"       \"壓抑\"    \n",
              "[199] \"的\"       \"情緒\"     \"不知\"     \"如何\"     \"表達\"     \"無論\"    \n",
              "[205] \"我\"       \"在\"       \"這裡\"     \"在\"       \"那裡\"     \"彷彿\"    \n",
              "[211] \"失魂\"     \"的\"       \"蟲鳴\"     \"卻\"       \"明白\"     \"此刻\"    \n",
              "[217] \"應該\"     \"做些\"     \"努力\"     \"無論\"     \"我\"       \"在\"      \n",
              "[223] \"這裡\"     \"在\"       \"那裡\"     \"不能\"     \"彌補\"     \"的\"      \n",
              "[229] \"過去\"     \"每當\"     \"想起\"     \"想過\"     \"離開\"     \"以\"      \n",
              "[235] \"這種\"     \"方式\"     \"存在\"     \"是\"       \"因為\"     \"那些\"    \n",
              "[241] \"旁白\"     \"那些\"     \"姿態\"     \"那些\"     \"傷害\"     \"不想\"    \n",
              "[247] \"離開\"     \"當你說\"   \"還有\"     \"你\"       \"在\"       \"忽然\"    \n",
              "[253] \"我\"       \"開始\"     \"莫名\"     \"期待\"     \"夕陽西下\" \"翻著\"    \n",
              "[259] \"電話\"     \"無人\"     \"撥打\"     \"是\"       \"習慣\"     \"孤獨\"    \n",
              "[265] \"的\"       \"我\"       \"該\"       \"得到\"     \"的\"       \"吧\"      \n",
              "[271] \"獨木橋\"   \"呀\"       \"把\"       \"誰\"       \"推下\"     \"才\"      \n",
              "[277] \"算\"       \"贏家\"     \"我\"       \"無聲\"     \"的\"       \"反抗\"    \n",
              "[283] \"何時能\"   \"戰勝\"     \"它\"       \"無論\"     \"我\"       \"在\"      \n",
              "[289] \"這裡\"     \"在\"       \"那裡\"     \"彷彿\"     \"失魂\"     \"的\"      \n",
              "[295] \"蟲鳴\"     \"卻\"       \"明白\"     \"此刻\"     \"應該\"     \"做些\"    \n",
              "[301] \"努力\"     \"無論\"     \"我\"       \"在\"       \"這裡\"     \"在\"      \n",
              "[307] \"那裡\"     \"不能\"     \"彌補\"     \"的\"       \"過去\"     \"每當\"    \n",
              "[313] \"想起\"     \"想過\"     \"離開\"     \"以\"       \"這種\"     \"方式\"    \n",
              "[319] \"存在\"     \"是\"       \"因為\"     \"那些\"     \"旁白\"     \"那些\"    \n",
              "[325] \"姿態\"     \"那些\"     \"傷害\"     \"不想\"     \"離開\"     \"也許\"    \n",
              "[331] \"嘗試\"     \"過被\"     \"愛\"       \"會\"       \"開始\"     \"仰望\"    \n",
              "[337] \"未來\"     \"傷疤\"     \"就\"       \"丟給\"     \"回憶\"     \"吧\"      \n",
              "[343] \"放下\"     \"才\"       \"得到\"     \"更好\"     \"啊\"       \"別怕\"    \n",
              "[349] \"別怕\"     \"想過\"     \"離開\"     \"當\"       \"陽光\"     \"敗給\"    \n",
              "[355] \"陰霾\"     \"沒想到\"   \"你\"       \"會\"       \"拼命\"     \"為\"      \n",
              "[361] \"我\"       \"撥開\"     \"曾想過\"   \"離開\"     \"卻\"       \"又\"      \n",
              "[367] \"堅持\"     \"到\"       \"現在\"     \"熬過\"     \"了\"       \"那些\"    \n",
              "[373] \"旁白\"     \"那些\"     \"姿態\"     \"那些\"     \"傷害\"     \"不想\"    \n",
              "[379] \"離開\"     \"當你\"     \"的\"       \"笑容\"     \"綻開\"     \"這\"      \n",
              "[385] \"世界\"     \"突然\"     \"填滿\"     \"色彩\"     \"抱著\"     \"沙發\"    \n",
              "[391] \"睡眼\"     \"昏花\"     \"凌亂\"     \"頭髮\"     \"夕陽西下\" \"接通\"    \n",
              "[397] \"電話\"     \"是\"       \"你\"       \"呀\"      "
            ],
            "text/latex": "\\begin{enumerate*}\n\\item '看著'\n\\item '飛舞'\n\\item '的'\n\\item '塵埃'\n\\item '掉下來'\n\\item '沒人'\n\\item '發現'\n\\item '它'\n\\item '存在'\n\\item '多'\n\\item '自由自在'\n\\item '可'\n\\item '世界'\n\\item '都'\n\\item '愛'\n\\item '熱熱鬧鬧'\n\\item '容不下'\n\\item '我'\n\\item '百無聊賴'\n\\item '不'\n\\item '應該'\n\\item '一個'\n\\item '人'\n\\item '發呆'\n\\item '只有'\n\\item '我守著'\n\\item '安靜'\n\\item '的'\n\\item '沙漠'\n\\item '等待'\n\\item '著花開'\n\\item '只有'\n\\item '我'\n\\item '看'\n\\item '著'\n\\item '別人'\n\\item '的'\n\\item '快樂'\n\\item '竟然'\n\\item '會'\n\\item '感慨'\n\\item '就讓'\n\\item '我'\n\\item '聽'\n\\item '著'\n\\item '天大'\n\\item '的'\n\\item '道理'\n\\item '不'\n\\item '願意'\n\\item '明白'\n\\item '有'\n\\item '什麼'\n\\item '是'\n\\item '應該'\n\\item '不'\n\\item '應該'\n\\item '我'\n\\item '的'\n\\item '心裡'\n\\item '住'\n\\item '著'\n\\item '一個'\n\\item '蒼老'\n\\item '的'\n\\item '小孩'\n\\item '如果'\n\\item '世界'\n\\item '聽'\n\\item '不'\n\\item '明白'\n\\item '對'\n\\item '影子'\n\\item '表白'\n\\item '是不是'\n\\item '只有'\n\\item '我'\n\\item '還在問'\n\\item '為'\n\\item '什麼'\n\\item '明天'\n\\item '更'\n\\item '精彩'\n\\item '煙火'\n\\item '裡找'\n\\item '不到'\n\\item '童'\n\\item '真的'\n\\item '殘骸'\n\\item '只有'\n\\item '我守著'\n\\item '安靜'\n\\item '的'\n\\item '沙漠'\n\\item '等待'\n\\item '著花開'\n\\item '只有'\n\\item '我'\n\\item '看'\n\\item '著'\n\\item '別人'\n\\item '的'\n\\item '快樂'\n\\item '竟然'\n\\item '會'\n\\item '感慨'\n\\item '就讓'\n\\item '我'\n\\item '聽'\n\\item '著'\n\\item '天大'\n\\item '的'\n\\item '道理'\n\\item '不'\n\\item '願意'\n\\item '明白'\n\\item '只有'\n\\item '我'\n\\item '就是'\n\\item '我'\n\\item '好'\n\\item '奇怪'\n\\item '我'\n\\item '還在'\n\\item '感慨'\n\\item '風'\n\\item '陣陣'\n\\item '吹過來'\n\\item '為'\n\\item '何不'\n\\item '回來'\n\\item '風一去'\n\\item '不'\n\\item '回來'\n\\item '悲不'\n\\item '悲哀'\n\\item '麻木'\n\\item '得'\n\\item '那麼'\n\\item '快'\n\\item '應不應該'\n\\item '能'\n\\item '不能'\n\\item '慢下來'\n\\item '笑'\n\\item '得'\n\\item '開懷'\n\\item '哭'\n\\item '得'\n\\item '坦率'\n\\item '為何'\n\\item '表情'\n\\item '要'\n\\item '讓'\n\\item '這'\n\\item '世界'\n\\item '安排'\n\\item '我'\n\\item '就是'\n\\item '我'\n\\item '我'\n\\item '只是'\n\\item '我'\n\\item '只是'\n\\item '一場'\n\\item '煙火'\n\\item '散落'\n\\item '的'\n\\item '塵埃'\n\\item '風'\n\\item '陣陣'\n\\item '吹過來'\n\\item '風一去'\n\\item '不'\n\\item '回來'\n\\item '能'\n\\item '不能'\n\\item '慢下來'\n\\item '抱著'\n\\item '沙發'\n\\item '睡眼'\n\\item '昏花'\n\\item '凌亂'\n\\item '頭髮'\n\\item '卻'\n\\item '渴望'\n\\item '像'\n\\item '電影'\n\\item '主角'\n\\item '一樣'\n\\item '瀟灑'\n\\item '屋檐'\n\\item '角下'\n\\item '排著'\n\\item '烏鴉'\n\\item '密密麻麻'\n\\item '被'\n\\item '壓抑'\n\\item '的'\n\\item '情緒'\n\\item '不知'\n\\item '如何'\n\\item '表達'\n\\item '無論'\n\\item '我'\n\\item '在'\n\\item '這裡'\n\\item '在'\n\\item '那裡'\n\\item '彷彿'\n\\item '失魂'\n\\item '的'\n\\item '蟲鳴'\n\\item '卻'\n\\item '明白'\n\\item '此刻'\n\\item '應該'\n\\item '做些'\n\\item '努力'\n\\item '無論'\n\\item '我'\n\\item '在'\n\\item '這裡'\n\\item '在'\n\\item '那裡'\n\\item '不能'\n\\item '彌補'\n\\item '的'\n\\item '過去'\n\\item '每當'\n\\item '想起'\n\\item '想過'\n\\item '離開'\n\\item '以'\n\\item '這種'\n\\item '方式'\n\\item '存在'\n\\item '是'\n\\item '因為'\n\\item '那些'\n\\item '旁白'\n\\item '那些'\n\\item '姿態'\n\\item '那些'\n\\item '傷害'\n\\item '不想'\n\\item '離開'\n\\item '當你說'\n\\item '還有'\n\\item '你'\n\\item '在'\n\\item '忽然'\n\\item '我'\n\\item '開始'\n\\item '莫名'\n\\item '期待'\n\\item '夕陽西下'\n\\item '翻著'\n\\item '電話'\n\\item '無人'\n\\item '撥打'\n\\item '是'\n\\item '習慣'\n\\item '孤獨'\n\\item '的'\n\\item '我'\n\\item '該'\n\\item '得到'\n\\item '的'\n\\item '吧'\n\\item '獨木橋'\n\\item '呀'\n\\item '把'\n\\item '誰'\n\\item '推下'\n\\item '才'\n\\item '算'\n\\item '贏家'\n\\item '我'\n\\item '無聲'\n\\item '的'\n\\item '反抗'\n\\item '何時能'\n\\item '戰勝'\n\\item '它'\n\\item '無論'\n\\item '我'\n\\item '在'\n\\item '這裡'\n\\item '在'\n\\item '那裡'\n\\item '彷彿'\n\\item '失魂'\n\\item '的'\n\\item '蟲鳴'\n\\item '卻'\n\\item '明白'\n\\item '此刻'\n\\item '應該'\n\\item '做些'\n\\item '努力'\n\\item '無論'\n\\item '我'\n\\item '在'\n\\item '這裡'\n\\item '在'\n\\item '那裡'\n\\item '不能'\n\\item '彌補'\n\\item '的'\n\\item '過去'\n\\item '每當'\n\\item '想起'\n\\item '想過'\n\\item '離開'\n\\item '以'\n\\item '這種'\n\\item '方式'\n\\item '存在'\n\\item '是'\n\\item '因為'\n\\item '那些'\n\\item '旁白'\n\\item '那些'\n\\item '姿態'\n\\item '那些'\n\\item '傷害'\n\\item '不想'\n\\item '離開'\n\\item '也許'\n\\item '嘗試'\n\\item '過被'\n\\item '愛'\n\\item '會'\n\\item '開始'\n\\item '仰望'\n\\item '未來'\n\\item '傷疤'\n\\item '就'\n\\item '丟給'\n\\item '回憶'\n\\item '吧'\n\\item '放下'\n\\item '才'\n\\item '得到'\n\\item '更好'\n\\item '啊'\n\\item '別怕'\n\\item '別怕'\n\\item '想過'\n\\item '離開'\n\\item '當'\n\\item '陽光'\n\\item '敗給'\n\\item '陰霾'\n\\item '沒想到'\n\\item '你'\n\\item '會'\n\\item '拼命'\n\\item '為'\n\\item '我'\n\\item '撥開'\n\\item '曾想過'\n\\item '離開'\n\\item '卻'\n\\item '又'\n\\item '堅持'\n\\item '到'\n\\item '現在'\n\\item '熬過'\n\\item '了'\n\\item '那些'\n\\item '旁白'\n\\item '那些'\n\\item '姿態'\n\\item '那些'\n\\item '傷害'\n\\item '不想'\n\\item '離開'\n\\item '當你'\n\\item '的'\n\\item '笑容'\n\\item '綻開'\n\\item '這'\n\\item '世界'\n\\item '突然'\n\\item '填滿'\n\\item '色彩'\n\\item '抱著'\n\\item '沙發'\n\\item '睡眼'\n\\item '昏花'\n\\item '凌亂'\n\\item '頭髮'\n\\item '夕陽西下'\n\\item '接通'\n\\item '電話'\n\\item '是'\n\\item '你'\n\\item '呀'\n\\end{enumerate*}\n",
            "text/markdown": "1. '看著'\n2. '飛舞'\n3. '的'\n4. '塵埃'\n5. '掉下來'\n6. '沒人'\n7. '發現'\n8. '它'\n9. '存在'\n10. '多'\n11. '自由自在'\n12. '可'\n13. '世界'\n14. '都'\n15. '愛'\n16. '熱熱鬧鬧'\n17. '容不下'\n18. '我'\n19. '百無聊賴'\n20. '不'\n21. '應該'\n22. '一個'\n23. '人'\n24. '發呆'\n25. '只有'\n26. '我守著'\n27. '安靜'\n28. '的'\n29. '沙漠'\n30. '等待'\n31. '著花開'\n32. '只有'\n33. '我'\n34. '看'\n35. '著'\n36. '別人'\n37. '的'\n38. '快樂'\n39. '竟然'\n40. '會'\n41. '感慨'\n42. '就讓'\n43. '我'\n44. '聽'\n45. '著'\n46. '天大'\n47. '的'\n48. '道理'\n49. '不'\n50. '願意'\n51. '明白'\n52. '有'\n53. '什麼'\n54. '是'\n55. '應該'\n56. '不'\n57. '應該'\n58. '我'\n59. '的'\n60. '心裡'\n61. '住'\n62. '著'\n63. '一個'\n64. '蒼老'\n65. '的'\n66. '小孩'\n67. '如果'\n68. '世界'\n69. '聽'\n70. '不'\n71. '明白'\n72. '對'\n73. '影子'\n74. '表白'\n75. '是不是'\n76. '只有'\n77. '我'\n78. '還在問'\n79. '為'\n80. '什麼'\n81. '明天'\n82. '更'\n83. '精彩'\n84. '煙火'\n85. '裡找'\n86. '不到'\n87. '童'\n88. '真的'\n89. '殘骸'\n90. '只有'\n91. '我守著'\n92. '安靜'\n93. '的'\n94. '沙漠'\n95. '等待'\n96. '著花開'\n97. '只有'\n98. '我'\n99. '看'\n100. '著'\n101. '別人'\n102. '的'\n103. '快樂'\n104. '竟然'\n105. '會'\n106. '感慨'\n107. '就讓'\n108. '我'\n109. '聽'\n110. '著'\n111. '天大'\n112. '的'\n113. '道理'\n114. '不'\n115. '願意'\n116. '明白'\n117. '只有'\n118. '我'\n119. '就是'\n120. '我'\n121. '好'\n122. '奇怪'\n123. '我'\n124. '還在'\n125. '感慨'\n126. '風'\n127. '陣陣'\n128. '吹過來'\n129. '為'\n130. '何不'\n131. '回來'\n132. '風一去'\n133. '不'\n134. '回來'\n135. '悲不'\n136. '悲哀'\n137. '麻木'\n138. '得'\n139. '那麼'\n140. '快'\n141. '應不應該'\n142. '能'\n143. '不能'\n144. '慢下來'\n145. '笑'\n146. '得'\n147. '開懷'\n148. '哭'\n149. '得'\n150. '坦率'\n151. '為何'\n152. '表情'\n153. '要'\n154. '讓'\n155. '這'\n156. '世界'\n157. '安排'\n158. '我'\n159. '就是'\n160. '我'\n161. '我'\n162. '只是'\n163. '我'\n164. '只是'\n165. '一場'\n166. '煙火'\n167. '散落'\n168. '的'\n169. '塵埃'\n170. '風'\n171. '陣陣'\n172. '吹過來'\n173. '風一去'\n174. '不'\n175. '回來'\n176. '能'\n177. '不能'\n178. '慢下來'\n179. '抱著'\n180. '沙發'\n181. '睡眼'\n182. '昏花'\n183. '凌亂'\n184. '頭髮'\n185. '卻'\n186. '渴望'\n187. '像'\n188. '電影'\n189. '主角'\n190. '一樣'\n191. '瀟灑'\n192. '屋檐'\n193. '角下'\n194. '排著'\n195. '烏鴉'\n196. '密密麻麻'\n197. '被'\n198. '壓抑'\n199. '的'\n200. '情緒'\n201. '不知'\n202. '如何'\n203. '表達'\n204. '無論'\n205. '我'\n206. '在'\n207. '這裡'\n208. '在'\n209. '那裡'\n210. '彷彿'\n211. '失魂'\n212. '的'\n213. '蟲鳴'\n214. '卻'\n215. '明白'\n216. '此刻'\n217. '應該'\n218. '做些'\n219. '努力'\n220. '無論'\n221. '我'\n222. '在'\n223. '這裡'\n224. '在'\n225. '那裡'\n226. '不能'\n227. '彌補'\n228. '的'\n229. '過去'\n230. '每當'\n231. '想起'\n232. '想過'\n233. '離開'\n234. '以'\n235. '這種'\n236. '方式'\n237. '存在'\n238. '是'\n239. '因為'\n240. '那些'\n241. '旁白'\n242. '那些'\n243. '姿態'\n244. '那些'\n245. '傷害'\n246. '不想'\n247. '離開'\n248. '當你說'\n249. '還有'\n250. '你'\n251. '在'\n252. '忽然'\n253. '我'\n254. '開始'\n255. '莫名'\n256. '期待'\n257. '夕陽西下'\n258. '翻著'\n259. '電話'\n260. '無人'\n261. '撥打'\n262. '是'\n263. '習慣'\n264. '孤獨'\n265. '的'\n266. '我'\n267. '該'\n268. '得到'\n269. '的'\n270. '吧'\n271. '獨木橋'\n272. '呀'\n273. '把'\n274. '誰'\n275. '推下'\n276. '才'\n277. '算'\n278. '贏家'\n279. '我'\n280. '無聲'\n281. '的'\n282. '反抗'\n283. '何時能'\n284. '戰勝'\n285. '它'\n286. '無論'\n287. '我'\n288. '在'\n289. '這裡'\n290. '在'\n291. '那裡'\n292. '彷彿'\n293. '失魂'\n294. '的'\n295. '蟲鳴'\n296. '卻'\n297. '明白'\n298. '此刻'\n299. '應該'\n300. '做些'\n301. '努力'\n302. '無論'\n303. '我'\n304. '在'\n305. '這裡'\n306. '在'\n307. '那裡'\n308. '不能'\n309. '彌補'\n310. '的'\n311. '過去'\n312. '每當'\n313. '想起'\n314. '想過'\n315. '離開'\n316. '以'\n317. '這種'\n318. '方式'\n319. '存在'\n320. '是'\n321. '因為'\n322. '那些'\n323. '旁白'\n324. '那些'\n325. '姿態'\n326. '那些'\n327. '傷害'\n328. '不想'\n329. '離開'\n330. '也許'\n331. '嘗試'\n332. '過被'\n333. '愛'\n334. '會'\n335. '開始'\n336. '仰望'\n337. '未來'\n338. '傷疤'\n339. '就'\n340. '丟給'\n341. '回憶'\n342. '吧'\n343. '放下'\n344. '才'\n345. '得到'\n346. '更好'\n347. '啊'\n348. '別怕'\n349. '別怕'\n350. '想過'\n351. '離開'\n352. '當'\n353. '陽光'\n354. '敗給'\n355. '陰霾'\n356. '沒想到'\n357. '你'\n358. '會'\n359. '拼命'\n360. '為'\n361. '我'\n362. '撥開'\n363. '曾想過'\n364. '離開'\n365. '卻'\n366. '又'\n367. '堅持'\n368. '到'\n369. '現在'\n370. '熬過'\n371. '了'\n372. '那些'\n373. '旁白'\n374. '那些'\n375. '姿態'\n376. '那些'\n377. '傷害'\n378. '不想'\n379. '離開'\n380. '當你'\n381. '的'\n382. '笑容'\n383. '綻開'\n384. '這'\n385. '世界'\n386. '突然'\n387. '填滿'\n388. '色彩'\n389. '抱著'\n390. '沙發'\n391. '睡眼'\n392. '昏花'\n393. '凌亂'\n394. '頭髮'\n395. '夕陽西下'\n396. '接通'\n397. '電話'\n398. '是'\n399. '你'\n400. '呀'\n\n\n",
            "text/html": [
              "<style>\n",
              ".list-inline {list-style: none; margin:0; padding: 0}\n",
              ".list-inline>li {display: inline-block}\n",
              ".list-inline>li:not(:last-child)::after {content: \"\\00b7\"; padding: 0 .5ex}\n",
              "</style>\n",
              "<ol class=list-inline><li>'看著'</li><li>'飛舞'</li><li>'的'</li><li>'塵埃'</li><li>'掉下來'</li><li>'沒人'</li><li>'發現'</li><li>'它'</li><li>'存在'</li><li>'多'</li><li>'自由自在'</li><li>'可'</li><li>'世界'</li><li>'都'</li><li>'愛'</li><li>'熱熱鬧鬧'</li><li>'容不下'</li><li>'我'</li><li>'百無聊賴'</li><li>'不'</li><li>'應該'</li><li>'一個'</li><li>'人'</li><li>'發呆'</li><li>'只有'</li><li>'我守著'</li><li>'安靜'</li><li>'的'</li><li>'沙漠'</li><li>'等待'</li><li>'著花開'</li><li>'只有'</li><li>'我'</li><li>'看'</li><li>'著'</li><li>'別人'</li><li>'的'</li><li>'快樂'</li><li>'竟然'</li><li>'會'</li><li>'感慨'</li><li>'就讓'</li><li>'我'</li><li>'聽'</li><li>'著'</li><li>'天大'</li><li>'的'</li><li>'道理'</li><li>'不'</li><li>'願意'</li><li>'明白'</li><li>'有'</li><li>'什麼'</li><li>'是'</li><li>'應該'</li><li>'不'</li><li>'應該'</li><li>'我'</li><li>'的'</li><li>'心裡'</li><li>'住'</li><li>'著'</li><li>'一個'</li><li>'蒼老'</li><li>'的'</li><li>'小孩'</li><li>'如果'</li><li>'世界'</li><li>'聽'</li><li>'不'</li><li>'明白'</li><li>'對'</li><li>'影子'</li><li>'表白'</li><li>'是不是'</li><li>'只有'</li><li>'我'</li><li>'還在問'</li><li>'為'</li><li>'什麼'</li><li>'明天'</li><li>'更'</li><li>'精彩'</li><li>'煙火'</li><li>'裡找'</li><li>'不到'</li><li>'童'</li><li>'真的'</li><li>'殘骸'</li><li>'只有'</li><li>'我守著'</li><li>'安靜'</li><li>'的'</li><li>'沙漠'</li><li>'等待'</li><li>'著花開'</li><li>'只有'</li><li>'我'</li><li>'看'</li><li>'著'</li><li>'別人'</li><li>'的'</li><li>'快樂'</li><li>'竟然'</li><li>'會'</li><li>'感慨'</li><li>'就讓'</li><li>'我'</li><li>'聽'</li><li>'著'</li><li>'天大'</li><li>'的'</li><li>'道理'</li><li>'不'</li><li>'願意'</li><li>'明白'</li><li>'只有'</li><li>'我'</li><li>'就是'</li><li>'我'</li><li>'好'</li><li>'奇怪'</li><li>'我'</li><li>'還在'</li><li>'感慨'</li><li>'風'</li><li>'陣陣'</li><li>'吹過來'</li><li>'為'</li><li>'何不'</li><li>'回來'</li><li>'風一去'</li><li>'不'</li><li>'回來'</li><li>'悲不'</li><li>'悲哀'</li><li>'麻木'</li><li>'得'</li><li>'那麼'</li><li>'快'</li><li>'應不應該'</li><li>'能'</li><li>'不能'</li><li>'慢下來'</li><li>'笑'</li><li>'得'</li><li>'開懷'</li><li>'哭'</li><li>'得'</li><li>'坦率'</li><li>'為何'</li><li>'表情'</li><li>'要'</li><li>'讓'</li><li>'這'</li><li>'世界'</li><li>'安排'</li><li>'我'</li><li>'就是'</li><li>'我'</li><li>'我'</li><li>'只是'</li><li>'我'</li><li>'只是'</li><li>'一場'</li><li>'煙火'</li><li>'散落'</li><li>'的'</li><li>'塵埃'</li><li>'風'</li><li>'陣陣'</li><li>'吹過來'</li><li>'風一去'</li><li>'不'</li><li>'回來'</li><li>'能'</li><li>'不能'</li><li>'慢下來'</li><li>'抱著'</li><li>'沙發'</li><li>'睡眼'</li><li>'昏花'</li><li>'凌亂'</li><li>'頭髮'</li><li>'卻'</li><li>'渴望'</li><li>'像'</li><li>'電影'</li><li>'主角'</li><li>'一樣'</li><li>'瀟灑'</li><li>'屋檐'</li><li>'角下'</li><li>'排著'</li><li>'烏鴉'</li><li>'密密麻麻'</li><li>'被'</li><li>'壓抑'</li><li>'的'</li><li>'情緒'</li><li>'不知'</li><li>'如何'</li><li>'表達'</li><li>'無論'</li><li>'我'</li><li>'在'</li><li>'這裡'</li><li>'在'</li><li>'那裡'</li><li>'彷彿'</li><li>'失魂'</li><li>'的'</li><li>'蟲鳴'</li><li>'卻'</li><li>'明白'</li><li>'此刻'</li><li>'應該'</li><li>'做些'</li><li>'努力'</li><li>'無論'</li><li>'我'</li><li>'在'</li><li>'這裡'</li><li>'在'</li><li>'那裡'</li><li>'不能'</li><li>'彌補'</li><li>'的'</li><li>'過去'</li><li>'每當'</li><li>'想起'</li><li>'想過'</li><li>'離開'</li><li>'以'</li><li>'這種'</li><li>'方式'</li><li>'存在'</li><li>'是'</li><li>'因為'</li><li>'那些'</li><li>'旁白'</li><li>'那些'</li><li>'姿態'</li><li>'那些'</li><li>'傷害'</li><li>'不想'</li><li>'離開'</li><li>'當你說'</li><li>'還有'</li><li>'你'</li><li>'在'</li><li>'忽然'</li><li>'我'</li><li>'開始'</li><li>'莫名'</li><li>'期待'</li><li>'夕陽西下'</li><li>'翻著'</li><li>'電話'</li><li>'無人'</li><li>'撥打'</li><li>'是'</li><li>'習慣'</li><li>'孤獨'</li><li>'的'</li><li>'我'</li><li>'該'</li><li>'得到'</li><li>'的'</li><li>'吧'</li><li>'獨木橋'</li><li>'呀'</li><li>'把'</li><li>'誰'</li><li>'推下'</li><li>'才'</li><li>'算'</li><li>'贏家'</li><li>'我'</li><li>'無聲'</li><li>'的'</li><li>'反抗'</li><li>'何時能'</li><li>'戰勝'</li><li>'它'</li><li>'無論'</li><li>'我'</li><li>'在'</li><li>'這裡'</li><li>'在'</li><li>'那裡'</li><li>'彷彿'</li><li>'失魂'</li><li>'的'</li><li>'蟲鳴'</li><li>'卻'</li><li>'明白'</li><li>'此刻'</li><li>'應該'</li><li>'做些'</li><li>'努力'</li><li>'無論'</li><li>'我'</li><li>'在'</li><li>'這裡'</li><li>'在'</li><li>'那裡'</li><li>'不能'</li><li>'彌補'</li><li>'的'</li><li>'過去'</li><li>'每當'</li><li>'想起'</li><li>'想過'</li><li>'離開'</li><li>'以'</li><li>'這種'</li><li>'方式'</li><li>'存在'</li><li>'是'</li><li>'因為'</li><li>'那些'</li><li>'旁白'</li><li>'那些'</li><li>'姿態'</li><li>'那些'</li><li>'傷害'</li><li>'不想'</li><li>'離開'</li><li>'也許'</li><li>'嘗試'</li><li>'過被'</li><li>'愛'</li><li>'會'</li><li>'開始'</li><li>'仰望'</li><li>'未來'</li><li>'傷疤'</li><li>'就'</li><li>'丟給'</li><li>'回憶'</li><li>'吧'</li><li>'放下'</li><li>'才'</li><li>'得到'</li><li>'更好'</li><li>'啊'</li><li>'別怕'</li><li>'別怕'</li><li>'想過'</li><li>'離開'</li><li>'當'</li><li>'陽光'</li><li>'敗給'</li><li>'陰霾'</li><li>'沒想到'</li><li>'你'</li><li>'會'</li><li>'拼命'</li><li>'為'</li><li>'我'</li><li>'撥開'</li><li>'曾想過'</li><li>'離開'</li><li>'卻'</li><li>'又'</li><li>'堅持'</li><li>'到'</li><li>'現在'</li><li>'熬過'</li><li>'了'</li><li>'那些'</li><li>'旁白'</li><li>'那些'</li><li>'姿態'</li><li>'那些'</li><li>'傷害'</li><li>'不想'</li><li>'離開'</li><li>'當你'</li><li>'的'</li><li>'笑容'</li><li>'綻開'</li><li>'這'</li><li>'世界'</li><li>'突然'</li><li>'填滿'</li><li>'色彩'</li><li>'抱著'</li><li>'沙發'</li><li>'睡眼'</li><li>'昏花'</li><li>'凌亂'</li><li>'頭髮'</li><li>'夕陽西下'</li><li>'接通'</li><li>'電話'</li><li>'是'</li><li>'你'</li><li>'呀'</li></ol>\n"
            ]
          },
          "metadata": {
            "tags": []
          }
        }
      ]
    },
    {
      "cell_type": "code",
      "metadata": {
        "id": "_DoY3Wa4h160",
        "outputId": "775a4257-01b5-448a-cb7c-89d848a2eb03",
        "colab": {
          "base_uri": "https://localhost:8080/",
          "height": 357
        }
      },
      "source": [
        "new_words <- c(\"傳染性肺炎\",\"醫療體系\",\"防疫措施\")\n",
        "writeLines(new_words, \"new_words.txt\")\n",
        "\n",
        "stop_words <- c(\"的\",\"多\",\"可\",\"都\",\"會\",\"\",\"\",\"\",\"\")\n",
        "writeLines(stop_words, \"stop_words.txt\")\n",
        "\n",
        "cutter <- worker(user = \"new_words.txt\", stop_word = \"stop_words.txt\", bylines = FALSE)\n",
        "seg_words <- cutter[content]\n",
        "seg_words"
      ],
      "execution_count": 11,
      "outputs": [
        {
          "output_type": "display_data",
          "data": {
            "text/plain": [
              "  [1] \"看著\"     \"飛舞\"     \"塵埃\"     \"掉下來\"   \"沒人\"     \"發現\"    \n",
              "  [7] \"它\"       \"存在\"     \"多\"       \"自由自在\" \"可\"       \"世界\"    \n",
              " [13] \"都\"       \"愛\"       \"熱熱鬧鬧\" \"容不下\"   \"我\"       \"百無聊賴\"\n",
              " [19] \"不\"       \"應該\"     \"一個\"     \"人\"       \"發呆\"     \"只有\"    \n",
              " [25] \"我守著\"   \"安靜\"     \"沙漠\"     \"等待\"     \"著花開\"   \"只有\"    \n",
              " [31] \"我\"       \"看\"       \"著\"       \"別人\"     \"快樂\"     \"竟然\"    \n",
              " [37] \"會\"       \"感慨\"     \"就讓\"     \"我\"       \"聽\"       \"著\"      \n",
              " [43] \"天大\"     \"道理\"     \"不\"       \"願意\"     \"明白\"     \"有\"      \n",
              " [49] \"什麼\"     \"是\"       \"應該\"     \"不\"       \"應該\"     \"我\"      \n",
              " [55] \"心裡\"     \"住\"       \"著\"       \"一個\"     \"蒼老\"     \"小孩\"    \n",
              " [61] \"如果\"     \"世界\"     \"聽\"       \"不\"       \"明白\"     \"對\"      \n",
              " [67] \"影子\"     \"表白\"     \"是不是\"   \"只有\"     \"我\"       \"還在問\"  \n",
              " [73] \"為\"       \"什麼\"     \"明天\"     \"精彩\"     \"煙火\"     \"裡找\"    \n",
              " [79] \"不到\"     \"童\"       \"真的\"     \"殘骸\"     \"只有\"     \"我守著\"  \n",
              " [85] \"安靜\"     \"沙漠\"     \"等待\"     \"著花開\"   \"只有\"     \"我\"      \n",
              " [91] \"看\"       \"著\"       \"別人\"     \"快樂\"     \"竟然\"     \"會\"      \n",
              " [97] \"感慨\"     \"就讓\"     \"我\"       \"聽\"       \"著\"       \"天大\"    \n",
              "[103] \"道理\"     \"不\"       \"願意\"     \"明白\"     \"只有\"     \"我\"      \n",
              "[109] \"就是\"     \"我\"       \"好\"       \"奇怪\"     \"我\"       \"還在\"    \n",
              "[115] \"感慨\"     \"風\"       \"陣陣\"     \"吹過來\"   \"為\"       \"何不\"    \n",
              "[121] \"回來\"     \"風一去\"   \"不\"       \"回來\"     \"悲不\"     \"悲哀\"    \n",
              "[127] \"麻木\"     \"得\"       \"那麼\"     \"快\"       \"應不應該\" \"能\"      \n",
              "[133] \"不能\"     \"慢下來\"   \"笑\"       \"得\"       \"開懷\"     \"哭\"      \n",
              "[139] \"得\"       \"坦率\"     \"為何\"     \"表情\"     \"要\"       \"讓\"      \n",
              "[145] \"這\"       \"世界\"     \"安排\"     \"我\"       \"就是\"     \"我\"      \n",
              "[151] \"我\"       \"只是\"     \"我\"       \"只是\"     \"一場\"     \"煙火\"    \n",
              "[157] \"散落\"     \"塵埃\"     \"風\"       \"陣陣\"     \"吹過來\"   \"風一去\"  \n",
              "[163] \"不\"       \"回來\"     \"能\"       \"不能\"     \"慢下來\"   \"抱著\"    \n",
              "[169] \"沙發\"     \"睡眼\"     \"昏花\"     \"凌亂\"     \"頭髮\"     \"卻\"      \n",
              "[175] \"渴望\"     \"像\"       \"電影\"     \"主角\"     \"一樣\"     \"瀟灑\"    \n",
              "[181] \"屋檐\"     \"角下\"     \"排著\"     \"烏鴉\"     \"密密麻麻\" \"被\"      \n",
              "[187] \"壓抑\"     \"情緒\"     \"不知\"     \"如何\"     \"表達\"     \"無論\"    \n",
              "[193] \"我\"       \"這裡\"     \"那裡\"     \"彷彿\"     \"失魂\"     \"蟲鳴\"    \n",
              "[199] \"卻\"       \"明白\"     \"此刻\"     \"應該\"     \"做些\"     \"努力\"    \n",
              "[205] \"無論\"     \"我\"       \"這裡\"     \"那裡\"     \"不能\"     \"彌補\"    \n",
              "[211] \"過去\"     \"每當\"     \"想起\"     \"想過\"     \"離開\"     \"以\"      \n",
              "[217] \"這種\"     \"方式\"     \"存在\"     \"是\"       \"因為\"     \"那些\"    \n",
              "[223] \"旁白\"     \"那些\"     \"姿態\"     \"那些\"     \"傷害\"     \"不想\"    \n",
              "[229] \"離開\"     \"當你說\"   \"還有\"     \"你\"       \"忽然\"     \"我\"      \n",
              "[235] \"開始\"     \"莫名\"     \"期待\"     \"夕陽西下\" \"翻著\"     \"電話\"    \n",
              "[241] \"無人\"     \"撥打\"     \"是\"       \"習慣\"     \"孤獨\"     \"我\"      \n",
              "[247] \"該\"       \"得到\"     \"吧\"       \"獨木橋\"   \"呀\"       \"把\"      \n",
              "[253] \"誰\"       \"推下\"     \"才\"       \"算\"       \"贏家\"     \"我\"      \n",
              "[259] \"無聲\"     \"反抗\"     \"何時能\"   \"戰勝\"     \"它\"       \"無論\"    \n",
              "[265] \"我\"       \"這裡\"     \"那裡\"     \"彷彿\"     \"失魂\"     \"蟲鳴\"    \n",
              "[271] \"卻\"       \"明白\"     \"此刻\"     \"應該\"     \"做些\"     \"努力\"    \n",
              "[277] \"無論\"     \"我\"       \"這裡\"     \"那裡\"     \"不能\"     \"彌補\"    \n",
              "[283] \"過去\"     \"每當\"     \"想起\"     \"想過\"     \"離開\"     \"以\"      \n",
              "[289] \"這種\"     \"方式\"     \"存在\"     \"是\"       \"因為\"     \"那些\"    \n",
              "[295] \"旁白\"     \"那些\"     \"姿態\"     \"那些\"     \"傷害\"     \"不想\"    \n",
              "[301] \"離開\"     \"也許\"     \"嘗試\"     \"過被\"     \"愛\"       \"會\"      \n",
              "[307] \"開始\"     \"仰望\"     \"未來\"     \"傷疤\"     \"就\"       \"丟給\"    \n",
              "[313] \"回憶\"     \"吧\"       \"放下\"     \"才\"       \"得到\"     \"更好\"    \n",
              "[319] \"啊\"       \"別怕\"     \"別怕\"     \"想過\"     \"離開\"     \"當\"      \n",
              "[325] \"陽光\"     \"敗給\"     \"陰霾\"     \"沒想到\"   \"你\"       \"會\"      \n",
              "[331] \"拼命\"     \"為\"       \"我\"       \"撥開\"     \"曾想過\"   \"離開\"    \n",
              "[337] \"卻\"       \"又\"       \"堅持\"     \"到\"       \"現在\"     \"熬過\"    \n",
              "[343] \"了\"       \"那些\"     \"旁白\"     \"那些\"     \"姿態\"     \"那些\"    \n",
              "[349] \"傷害\"     \"不想\"     \"離開\"     \"當你\"     \"笑容\"     \"綻開\"    \n",
              "[355] \"這\"       \"世界\"     \"突然\"     \"填滿\"     \"色彩\"     \"抱著\"    \n",
              "[361] \"沙發\"     \"睡眼\"     \"昏花\"     \"凌亂\"     \"頭髮\"     \"夕陽西下\"\n",
              "[367] \"接通\"     \"電話\"     \"是\"       \"你\"       \"呀\"      "
            ],
            "text/latex": "\\begin{enumerate*}\n\\item '看著'\n\\item '飛舞'\n\\item '塵埃'\n\\item '掉下來'\n\\item '沒人'\n\\item '發現'\n\\item '它'\n\\item '存在'\n\\item '多'\n\\item '自由自在'\n\\item '可'\n\\item '世界'\n\\item '都'\n\\item '愛'\n\\item '熱熱鬧鬧'\n\\item '容不下'\n\\item '我'\n\\item '百無聊賴'\n\\item '不'\n\\item '應該'\n\\item '一個'\n\\item '人'\n\\item '發呆'\n\\item '只有'\n\\item '我守著'\n\\item '安靜'\n\\item '沙漠'\n\\item '等待'\n\\item '著花開'\n\\item '只有'\n\\item '我'\n\\item '看'\n\\item '著'\n\\item '別人'\n\\item '快樂'\n\\item '竟然'\n\\item '會'\n\\item '感慨'\n\\item '就讓'\n\\item '我'\n\\item '聽'\n\\item '著'\n\\item '天大'\n\\item '道理'\n\\item '不'\n\\item '願意'\n\\item '明白'\n\\item '有'\n\\item '什麼'\n\\item '是'\n\\item '應該'\n\\item '不'\n\\item '應該'\n\\item '我'\n\\item '心裡'\n\\item '住'\n\\item '著'\n\\item '一個'\n\\item '蒼老'\n\\item '小孩'\n\\item '如果'\n\\item '世界'\n\\item '聽'\n\\item '不'\n\\item '明白'\n\\item '對'\n\\item '影子'\n\\item '表白'\n\\item '是不是'\n\\item '只有'\n\\item '我'\n\\item '還在問'\n\\item '為'\n\\item '什麼'\n\\item '明天'\n\\item '精彩'\n\\item '煙火'\n\\item '裡找'\n\\item '不到'\n\\item '童'\n\\item '真的'\n\\item '殘骸'\n\\item '只有'\n\\item '我守著'\n\\item '安靜'\n\\item '沙漠'\n\\item '等待'\n\\item '著花開'\n\\item '只有'\n\\item '我'\n\\item '看'\n\\item '著'\n\\item '別人'\n\\item '快樂'\n\\item '竟然'\n\\item '會'\n\\item '感慨'\n\\item '就讓'\n\\item '我'\n\\item '聽'\n\\item '著'\n\\item '天大'\n\\item '道理'\n\\item '不'\n\\item '願意'\n\\item '明白'\n\\item '只有'\n\\item '我'\n\\item '就是'\n\\item '我'\n\\item '好'\n\\item '奇怪'\n\\item '我'\n\\item '還在'\n\\item '感慨'\n\\item '風'\n\\item '陣陣'\n\\item '吹過來'\n\\item '為'\n\\item '何不'\n\\item '回來'\n\\item '風一去'\n\\item '不'\n\\item '回來'\n\\item '悲不'\n\\item '悲哀'\n\\item '麻木'\n\\item '得'\n\\item '那麼'\n\\item '快'\n\\item '應不應該'\n\\item '能'\n\\item '不能'\n\\item '慢下來'\n\\item '笑'\n\\item '得'\n\\item '開懷'\n\\item '哭'\n\\item '得'\n\\item '坦率'\n\\item '為何'\n\\item '表情'\n\\item '要'\n\\item '讓'\n\\item '這'\n\\item '世界'\n\\item '安排'\n\\item '我'\n\\item '就是'\n\\item '我'\n\\item '我'\n\\item '只是'\n\\item '我'\n\\item '只是'\n\\item '一場'\n\\item '煙火'\n\\item '散落'\n\\item '塵埃'\n\\item '風'\n\\item '陣陣'\n\\item '吹過來'\n\\item '風一去'\n\\item '不'\n\\item '回來'\n\\item '能'\n\\item '不能'\n\\item '慢下來'\n\\item '抱著'\n\\item '沙發'\n\\item '睡眼'\n\\item '昏花'\n\\item '凌亂'\n\\item '頭髮'\n\\item '卻'\n\\item '渴望'\n\\item '像'\n\\item '電影'\n\\item '主角'\n\\item '一樣'\n\\item '瀟灑'\n\\item '屋檐'\n\\item '角下'\n\\item '排著'\n\\item '烏鴉'\n\\item '密密麻麻'\n\\item '被'\n\\item '壓抑'\n\\item '情緒'\n\\item '不知'\n\\item '如何'\n\\item '表達'\n\\item '無論'\n\\item '我'\n\\item '這裡'\n\\item '那裡'\n\\item '彷彿'\n\\item '失魂'\n\\item '蟲鳴'\n\\item '卻'\n\\item '明白'\n\\item '此刻'\n\\item '應該'\n\\item '做些'\n\\item '努力'\n\\item '無論'\n\\item '我'\n\\item '這裡'\n\\item '那裡'\n\\item '不能'\n\\item '彌補'\n\\item '過去'\n\\item '每當'\n\\item '想起'\n\\item '想過'\n\\item '離開'\n\\item '以'\n\\item '這種'\n\\item '方式'\n\\item '存在'\n\\item '是'\n\\item '因為'\n\\item '那些'\n\\item '旁白'\n\\item '那些'\n\\item '姿態'\n\\item '那些'\n\\item '傷害'\n\\item '不想'\n\\item '離開'\n\\item '當你說'\n\\item '還有'\n\\item '你'\n\\item '忽然'\n\\item '我'\n\\item '開始'\n\\item '莫名'\n\\item '期待'\n\\item '夕陽西下'\n\\item '翻著'\n\\item '電話'\n\\item '無人'\n\\item '撥打'\n\\item '是'\n\\item '習慣'\n\\item '孤獨'\n\\item '我'\n\\item '該'\n\\item '得到'\n\\item '吧'\n\\item '獨木橋'\n\\item '呀'\n\\item '把'\n\\item '誰'\n\\item '推下'\n\\item '才'\n\\item '算'\n\\item '贏家'\n\\item '我'\n\\item '無聲'\n\\item '反抗'\n\\item '何時能'\n\\item '戰勝'\n\\item '它'\n\\item '無論'\n\\item '我'\n\\item '這裡'\n\\item '那裡'\n\\item '彷彿'\n\\item '失魂'\n\\item '蟲鳴'\n\\item '卻'\n\\item '明白'\n\\item '此刻'\n\\item '應該'\n\\item '做些'\n\\item '努力'\n\\item '無論'\n\\item '我'\n\\item '這裡'\n\\item '那裡'\n\\item '不能'\n\\item '彌補'\n\\item '過去'\n\\item '每當'\n\\item '想起'\n\\item '想過'\n\\item '離開'\n\\item '以'\n\\item '這種'\n\\item '方式'\n\\item '存在'\n\\item '是'\n\\item '因為'\n\\item '那些'\n\\item '旁白'\n\\item '那些'\n\\item '姿態'\n\\item '那些'\n\\item '傷害'\n\\item '不想'\n\\item '離開'\n\\item '也許'\n\\item '嘗試'\n\\item '過被'\n\\item '愛'\n\\item '會'\n\\item '開始'\n\\item '仰望'\n\\item '未來'\n\\item '傷疤'\n\\item '就'\n\\item '丟給'\n\\item '回憶'\n\\item '吧'\n\\item '放下'\n\\item '才'\n\\item '得到'\n\\item '更好'\n\\item '啊'\n\\item '別怕'\n\\item '別怕'\n\\item '想過'\n\\item '離開'\n\\item '當'\n\\item '陽光'\n\\item '敗給'\n\\item '陰霾'\n\\item '沒想到'\n\\item '你'\n\\item '會'\n\\item '拼命'\n\\item '為'\n\\item '我'\n\\item '撥開'\n\\item '曾想過'\n\\item '離開'\n\\item '卻'\n\\item '又'\n\\item '堅持'\n\\item '到'\n\\item '現在'\n\\item '熬過'\n\\item '了'\n\\item '那些'\n\\item '旁白'\n\\item '那些'\n\\item '姿態'\n\\item '那些'\n\\item '傷害'\n\\item '不想'\n\\item '離開'\n\\item '當你'\n\\item '笑容'\n\\item '綻開'\n\\item '這'\n\\item '世界'\n\\item '突然'\n\\item '填滿'\n\\item '色彩'\n\\item '抱著'\n\\item '沙發'\n\\item '睡眼'\n\\item '昏花'\n\\item '凌亂'\n\\item '頭髮'\n\\item '夕陽西下'\n\\item '接通'\n\\item '電話'\n\\item '是'\n\\item '你'\n\\item '呀'\n\\end{enumerate*}\n",
            "text/markdown": "1. '看著'\n2. '飛舞'\n3. '塵埃'\n4. '掉下來'\n5. '沒人'\n6. '發現'\n7. '它'\n8. '存在'\n9. '多'\n10. '自由自在'\n11. '可'\n12. '世界'\n13. '都'\n14. '愛'\n15. '熱熱鬧鬧'\n16. '容不下'\n17. '我'\n18. '百無聊賴'\n19. '不'\n20. '應該'\n21. '一個'\n22. '人'\n23. '發呆'\n24. '只有'\n25. '我守著'\n26. '安靜'\n27. '沙漠'\n28. '等待'\n29. '著花開'\n30. '只有'\n31. '我'\n32. '看'\n33. '著'\n34. '別人'\n35. '快樂'\n36. '竟然'\n37. '會'\n38. '感慨'\n39. '就讓'\n40. '我'\n41. '聽'\n42. '著'\n43. '天大'\n44. '道理'\n45. '不'\n46. '願意'\n47. '明白'\n48. '有'\n49. '什麼'\n50. '是'\n51. '應該'\n52. '不'\n53. '應該'\n54. '我'\n55. '心裡'\n56. '住'\n57. '著'\n58. '一個'\n59. '蒼老'\n60. '小孩'\n61. '如果'\n62. '世界'\n63. '聽'\n64. '不'\n65. '明白'\n66. '對'\n67. '影子'\n68. '表白'\n69. '是不是'\n70. '只有'\n71. '我'\n72. '還在問'\n73. '為'\n74. '什麼'\n75. '明天'\n76. '精彩'\n77. '煙火'\n78. '裡找'\n79. '不到'\n80. '童'\n81. '真的'\n82. '殘骸'\n83. '只有'\n84. '我守著'\n85. '安靜'\n86. '沙漠'\n87. '等待'\n88. '著花開'\n89. '只有'\n90. '我'\n91. '看'\n92. '著'\n93. '別人'\n94. '快樂'\n95. '竟然'\n96. '會'\n97. '感慨'\n98. '就讓'\n99. '我'\n100. '聽'\n101. '著'\n102. '天大'\n103. '道理'\n104. '不'\n105. '願意'\n106. '明白'\n107. '只有'\n108. '我'\n109. '就是'\n110. '我'\n111. '好'\n112. '奇怪'\n113. '我'\n114. '還在'\n115. '感慨'\n116. '風'\n117. '陣陣'\n118. '吹過來'\n119. '為'\n120. '何不'\n121. '回來'\n122. '風一去'\n123. '不'\n124. '回來'\n125. '悲不'\n126. '悲哀'\n127. '麻木'\n128. '得'\n129. '那麼'\n130. '快'\n131. '應不應該'\n132. '能'\n133. '不能'\n134. '慢下來'\n135. '笑'\n136. '得'\n137. '開懷'\n138. '哭'\n139. '得'\n140. '坦率'\n141. '為何'\n142. '表情'\n143. '要'\n144. '讓'\n145. '這'\n146. '世界'\n147. '安排'\n148. '我'\n149. '就是'\n150. '我'\n151. '我'\n152. '只是'\n153. '我'\n154. '只是'\n155. '一場'\n156. '煙火'\n157. '散落'\n158. '塵埃'\n159. '風'\n160. '陣陣'\n161. '吹過來'\n162. '風一去'\n163. '不'\n164. '回來'\n165. '能'\n166. '不能'\n167. '慢下來'\n168. '抱著'\n169. '沙發'\n170. '睡眼'\n171. '昏花'\n172. '凌亂'\n173. '頭髮'\n174. '卻'\n175. '渴望'\n176. '像'\n177. '電影'\n178. '主角'\n179. '一樣'\n180. '瀟灑'\n181. '屋檐'\n182. '角下'\n183. '排著'\n184. '烏鴉'\n185. '密密麻麻'\n186. '被'\n187. '壓抑'\n188. '情緒'\n189. '不知'\n190. '如何'\n191. '表達'\n192. '無論'\n193. '我'\n194. '這裡'\n195. '那裡'\n196. '彷彿'\n197. '失魂'\n198. '蟲鳴'\n199. '卻'\n200. '明白'\n201. '此刻'\n202. '應該'\n203. '做些'\n204. '努力'\n205. '無論'\n206. '我'\n207. '這裡'\n208. '那裡'\n209. '不能'\n210. '彌補'\n211. '過去'\n212. '每當'\n213. '想起'\n214. '想過'\n215. '離開'\n216. '以'\n217. '這種'\n218. '方式'\n219. '存在'\n220. '是'\n221. '因為'\n222. '那些'\n223. '旁白'\n224. '那些'\n225. '姿態'\n226. '那些'\n227. '傷害'\n228. '不想'\n229. '離開'\n230. '當你說'\n231. '還有'\n232. '你'\n233. '忽然'\n234. '我'\n235. '開始'\n236. '莫名'\n237. '期待'\n238. '夕陽西下'\n239. '翻著'\n240. '電話'\n241. '無人'\n242. '撥打'\n243. '是'\n244. '習慣'\n245. '孤獨'\n246. '我'\n247. '該'\n248. '得到'\n249. '吧'\n250. '獨木橋'\n251. '呀'\n252. '把'\n253. '誰'\n254. '推下'\n255. '才'\n256. '算'\n257. '贏家'\n258. '我'\n259. '無聲'\n260. '反抗'\n261. '何時能'\n262. '戰勝'\n263. '它'\n264. '無論'\n265. '我'\n266. '這裡'\n267. '那裡'\n268. '彷彿'\n269. '失魂'\n270. '蟲鳴'\n271. '卻'\n272. '明白'\n273. '此刻'\n274. '應該'\n275. '做些'\n276. '努力'\n277. '無論'\n278. '我'\n279. '這裡'\n280. '那裡'\n281. '不能'\n282. '彌補'\n283. '過去'\n284. '每當'\n285. '想起'\n286. '想過'\n287. '離開'\n288. '以'\n289. '這種'\n290. '方式'\n291. '存在'\n292. '是'\n293. '因為'\n294. '那些'\n295. '旁白'\n296. '那些'\n297. '姿態'\n298. '那些'\n299. '傷害'\n300. '不想'\n301. '離開'\n302. '也許'\n303. '嘗試'\n304. '過被'\n305. '愛'\n306. '會'\n307. '開始'\n308. '仰望'\n309. '未來'\n310. '傷疤'\n311. '就'\n312. '丟給'\n313. '回憶'\n314. '吧'\n315. '放下'\n316. '才'\n317. '得到'\n318. '更好'\n319. '啊'\n320. '別怕'\n321. '別怕'\n322. '想過'\n323. '離開'\n324. '當'\n325. '陽光'\n326. '敗給'\n327. '陰霾'\n328. '沒想到'\n329. '你'\n330. '會'\n331. '拼命'\n332. '為'\n333. '我'\n334. '撥開'\n335. '曾想過'\n336. '離開'\n337. '卻'\n338. '又'\n339. '堅持'\n340. '到'\n341. '現在'\n342. '熬過'\n343. '了'\n344. '那些'\n345. '旁白'\n346. '那些'\n347. '姿態'\n348. '那些'\n349. '傷害'\n350. '不想'\n351. '離開'\n352. '當你'\n353. '笑容'\n354. '綻開'\n355. '這'\n356. '世界'\n357. '突然'\n358. '填滿'\n359. '色彩'\n360. '抱著'\n361. '沙發'\n362. '睡眼'\n363. '昏花'\n364. '凌亂'\n365. '頭髮'\n366. '夕陽西下'\n367. '接通'\n368. '電話'\n369. '是'\n370. '你'\n371. '呀'\n\n\n",
            "text/html": [
              "<style>\n",
              ".list-inline {list-style: none; margin:0; padding: 0}\n",
              ".list-inline>li {display: inline-block}\n",
              ".list-inline>li:not(:last-child)::after {content: \"\\00b7\"; padding: 0 .5ex}\n",
              "</style>\n",
              "<ol class=list-inline><li>'看著'</li><li>'飛舞'</li><li>'塵埃'</li><li>'掉下來'</li><li>'沒人'</li><li>'發現'</li><li>'它'</li><li>'存在'</li><li>'多'</li><li>'自由自在'</li><li>'可'</li><li>'世界'</li><li>'都'</li><li>'愛'</li><li>'熱熱鬧鬧'</li><li>'容不下'</li><li>'我'</li><li>'百無聊賴'</li><li>'不'</li><li>'應該'</li><li>'一個'</li><li>'人'</li><li>'發呆'</li><li>'只有'</li><li>'我守著'</li><li>'安靜'</li><li>'沙漠'</li><li>'等待'</li><li>'著花開'</li><li>'只有'</li><li>'我'</li><li>'看'</li><li>'著'</li><li>'別人'</li><li>'快樂'</li><li>'竟然'</li><li>'會'</li><li>'感慨'</li><li>'就讓'</li><li>'我'</li><li>'聽'</li><li>'著'</li><li>'天大'</li><li>'道理'</li><li>'不'</li><li>'願意'</li><li>'明白'</li><li>'有'</li><li>'什麼'</li><li>'是'</li><li>'應該'</li><li>'不'</li><li>'應該'</li><li>'我'</li><li>'心裡'</li><li>'住'</li><li>'著'</li><li>'一個'</li><li>'蒼老'</li><li>'小孩'</li><li>'如果'</li><li>'世界'</li><li>'聽'</li><li>'不'</li><li>'明白'</li><li>'對'</li><li>'影子'</li><li>'表白'</li><li>'是不是'</li><li>'只有'</li><li>'我'</li><li>'還在問'</li><li>'為'</li><li>'什麼'</li><li>'明天'</li><li>'精彩'</li><li>'煙火'</li><li>'裡找'</li><li>'不到'</li><li>'童'</li><li>'真的'</li><li>'殘骸'</li><li>'只有'</li><li>'我守著'</li><li>'安靜'</li><li>'沙漠'</li><li>'等待'</li><li>'著花開'</li><li>'只有'</li><li>'我'</li><li>'看'</li><li>'著'</li><li>'別人'</li><li>'快樂'</li><li>'竟然'</li><li>'會'</li><li>'感慨'</li><li>'就讓'</li><li>'我'</li><li>'聽'</li><li>'著'</li><li>'天大'</li><li>'道理'</li><li>'不'</li><li>'願意'</li><li>'明白'</li><li>'只有'</li><li>'我'</li><li>'就是'</li><li>'我'</li><li>'好'</li><li>'奇怪'</li><li>'我'</li><li>'還在'</li><li>'感慨'</li><li>'風'</li><li>'陣陣'</li><li>'吹過來'</li><li>'為'</li><li>'何不'</li><li>'回來'</li><li>'風一去'</li><li>'不'</li><li>'回來'</li><li>'悲不'</li><li>'悲哀'</li><li>'麻木'</li><li>'得'</li><li>'那麼'</li><li>'快'</li><li>'應不應該'</li><li>'能'</li><li>'不能'</li><li>'慢下來'</li><li>'笑'</li><li>'得'</li><li>'開懷'</li><li>'哭'</li><li>'得'</li><li>'坦率'</li><li>'為何'</li><li>'表情'</li><li>'要'</li><li>'讓'</li><li>'這'</li><li>'世界'</li><li>'安排'</li><li>'我'</li><li>'就是'</li><li>'我'</li><li>'我'</li><li>'只是'</li><li>'我'</li><li>'只是'</li><li>'一場'</li><li>'煙火'</li><li>'散落'</li><li>'塵埃'</li><li>'風'</li><li>'陣陣'</li><li>'吹過來'</li><li>'風一去'</li><li>'不'</li><li>'回來'</li><li>'能'</li><li>'不能'</li><li>'慢下來'</li><li>'抱著'</li><li>'沙發'</li><li>'睡眼'</li><li>'昏花'</li><li>'凌亂'</li><li>'頭髮'</li><li>'卻'</li><li>'渴望'</li><li>'像'</li><li>'電影'</li><li>'主角'</li><li>'一樣'</li><li>'瀟灑'</li><li>'屋檐'</li><li>'角下'</li><li>'排著'</li><li>'烏鴉'</li><li>'密密麻麻'</li><li>'被'</li><li>'壓抑'</li><li>'情緒'</li><li>'不知'</li><li>'如何'</li><li>'表達'</li><li>'無論'</li><li>'我'</li><li>'這裡'</li><li>'那裡'</li><li>'彷彿'</li><li>'失魂'</li><li>'蟲鳴'</li><li>'卻'</li><li>'明白'</li><li>'此刻'</li><li>'應該'</li><li>'做些'</li><li>'努力'</li><li>'無論'</li><li>'我'</li><li>'這裡'</li><li>'那裡'</li><li>'不能'</li><li>'彌補'</li><li>'過去'</li><li>'每當'</li><li>'想起'</li><li>'想過'</li><li>'離開'</li><li>'以'</li><li>'這種'</li><li>'方式'</li><li>'存在'</li><li>'是'</li><li>'因為'</li><li>'那些'</li><li>'旁白'</li><li>'那些'</li><li>'姿態'</li><li>'那些'</li><li>'傷害'</li><li>'不想'</li><li>'離開'</li><li>'當你說'</li><li>'還有'</li><li>'你'</li><li>'忽然'</li><li>'我'</li><li>'開始'</li><li>'莫名'</li><li>'期待'</li><li>'夕陽西下'</li><li>'翻著'</li><li>'電話'</li><li>'無人'</li><li>'撥打'</li><li>'是'</li><li>'習慣'</li><li>'孤獨'</li><li>'我'</li><li>'該'</li><li>'得到'</li><li>'吧'</li><li>'獨木橋'</li><li>'呀'</li><li>'把'</li><li>'誰'</li><li>'推下'</li><li>'才'</li><li>'算'</li><li>'贏家'</li><li>'我'</li><li>'無聲'</li><li>'反抗'</li><li>'何時能'</li><li>'戰勝'</li><li>'它'</li><li>'無論'</li><li>'我'</li><li>'這裡'</li><li>'那裡'</li><li>'彷彿'</li><li>'失魂'</li><li>'蟲鳴'</li><li>'卻'</li><li>'明白'</li><li>'此刻'</li><li>'應該'</li><li>'做些'</li><li>'努力'</li><li>'無論'</li><li>'我'</li><li>'這裡'</li><li>'那裡'</li><li>'不能'</li><li>'彌補'</li><li>'過去'</li><li>'每當'</li><li>'想起'</li><li>'想過'</li><li>'離開'</li><li>'以'</li><li>'這種'</li><li>'方式'</li><li>'存在'</li><li>'是'</li><li>'因為'</li><li>'那些'</li><li>'旁白'</li><li>'那些'</li><li>'姿態'</li><li>'那些'</li><li>'傷害'</li><li>'不想'</li><li>'離開'</li><li>'也許'</li><li>'嘗試'</li><li>'過被'</li><li>'愛'</li><li>'會'</li><li>'開始'</li><li>'仰望'</li><li>'未來'</li><li>'傷疤'</li><li>'就'</li><li>'丟給'</li><li>'回憶'</li><li>'吧'</li><li>'放下'</li><li>'才'</li><li>'得到'</li><li>'更好'</li><li>'啊'</li><li>'別怕'</li><li>'別怕'</li><li>'想過'</li><li>'離開'</li><li>'當'</li><li>'陽光'</li><li>'敗給'</li><li>'陰霾'</li><li>'沒想到'</li><li>'你'</li><li>'會'</li><li>'拼命'</li><li>'為'</li><li>'我'</li><li>'撥開'</li><li>'曾想過'</li><li>'離開'</li><li>'卻'</li><li>'又'</li><li>'堅持'</li><li>'到'</li><li>'現在'</li><li>'熬過'</li><li>'了'</li><li>'那些'</li><li>'旁白'</li><li>'那些'</li><li>'姿態'</li><li>'那些'</li><li>'傷害'</li><li>'不想'</li><li>'離開'</li><li>'當你'</li><li>'笑容'</li><li>'綻開'</li><li>'這'</li><li>'世界'</li><li>'突然'</li><li>'填滿'</li><li>'色彩'</li><li>'抱著'</li><li>'沙發'</li><li>'睡眼'</li><li>'昏花'</li><li>'凌亂'</li><li>'頭髮'</li><li>'夕陽西下'</li><li>'接通'</li><li>'電話'</li><li>'是'</li><li>'你'</li><li>'呀'</li></ol>\n"
            ]
          },
          "metadata": {
            "tags": []
          }
        }
      ]
    },
    {
      "cell_type": "code",
      "metadata": {
        "id": "F1-dexABkO7G",
        "outputId": "c161b6fd-1a23-41ca-e2ff-b5e65ca96367",
        "colab": {
          "base_uri": "https://localhost:8080/",
          "height": 221
        }
      },
      "source": [
        "txt_freq <- freq(seg_words)\n",
        "txt_freq <- arrange(txt_freq, desc(freq))\n",
        "head(txt_freq)"
      ],
      "execution_count": 12,
      "outputs": [
        {
          "output_type": "display_data",
          "data": {
            "text/plain": [
              "  char freq\n",
              "1 我   22  \n",
              "2 那些  9  \n",
              "3 不    7  \n",
              "4 離開  7  \n",
              "5 只有  6  \n",
              "6 是    5  "
            ],
            "text/latex": "A data.frame: 6 × 2\n\\begin{tabular}{r|ll}\n  & char & freq\\\\\n  & <chr> & <dbl>\\\\\n\\hline\n\t1 & 我   & 22\\\\\n\t2 & 那些 &  9\\\\\n\t3 & 不   &  7\\\\\n\t4 & 離開 &  7\\\\\n\t5 & 只有 &  6\\\\\n\t6 & 是   &  5\\\\\n\\end{tabular}\n",
            "text/markdown": "\nA data.frame: 6 × 2\n\n| <!--/--> | char &lt;chr&gt; | freq &lt;dbl&gt; |\n|---|---|---|\n| 1 | 我   | 22 |\n| 2 | 那些 |  9 |\n| 3 | 不   |  7 |\n| 4 | 離開 |  7 |\n| 5 | 只有 |  6 |\n| 6 | 是   |  5 |\n\n",
            "text/html": [
              "<table>\n",
              "<caption>A data.frame: 6 × 2</caption>\n",
              "<thead>\n",
              "\t<tr><th></th><th scope=col>char</th><th scope=col>freq</th></tr>\n",
              "\t<tr><th></th><th scope=col>&lt;chr&gt;</th><th scope=col>&lt;dbl&gt;</th></tr>\n",
              "</thead>\n",
              "<tbody>\n",
              "\t<tr><th scope=row>1</th><td>我  </td><td>22</td></tr>\n",
              "\t<tr><th scope=row>2</th><td>那些</td><td> 9</td></tr>\n",
              "\t<tr><th scope=row>3</th><td>不  </td><td> 7</td></tr>\n",
              "\t<tr><th scope=row>4</th><td>離開</td><td> 7</td></tr>\n",
              "\t<tr><th scope=row>5</th><td>只有</td><td> 6</td></tr>\n",
              "\t<tr><th scope=row>6</th><td>是  </td><td> 5</td></tr>\n",
              "</tbody>\n",
              "</table>\n"
            ]
          },
          "metadata": {
            "tags": []
          }
        }
      ]
    },
    {
      "cell_type": "code",
      "metadata": {
        "id": "yderiMZVnGL-",
        "outputId": "0594feb2-c410-4146-a5cc-4086b9937d60",
        "colab": {
          "base_uri": "https://localhost:8080/"
        }
      },
      "source": [
        "install.packages(\"showtext\")"
      ],
      "execution_count": null,
      "outputs": [
        {
          "output_type": "stream",
          "text": [
            "Installing package into ‘/usr/local/lib/R/site-library’\n",
            "(as ‘lib’ is unspecified)\n",
            "\n"
          ],
          "name": "stderr"
        }
      ]
    },
    {
      "cell_type": "code",
      "metadata": {
        "id": "H2mjB3v9nWcY",
        "outputId": "ad5d9f52-0970-4d5c-9dda-bf47bdb82f48",
        "colab": {
          "base_uri": "https://localhost:8080/"
        }
      },
      "source": [
        "library(showtext)"
      ],
      "execution_count": null,
      "outputs": [
        {
          "output_type": "stream",
          "text": [
            "Loading required package: sysfonts\n",
            "\n",
            "Loading required package: showtextdb\n",
            "\n"
          ],
          "name": "stderr"
        }
      ]
    },
    {
      "cell_type": "code",
      "metadata": {
        "id": "gB6HSXzRnbAP",
        "outputId": "6fbbc4fa-8bf1-4a11-ac3b-bf850af0debd",
        "colab": {
          "base_uri": "https://localhost:8080/"
        }
      },
      "source": [
        "showtext.auto(enable = TRUE)"
      ],
      "execution_count": null,
      "outputs": [
        {
          "output_type": "stream",
          "text": [
            "'showtext.auto()' is now renamed to 'showtext_auto()'\n",
            "The old version still works, but consider using the new function in future code\n",
            "\n"
          ],
          "name": "stderr"
        }
      ]
    },
    {
      "cell_type": "code",
      "metadata": {
        "id": "T_C9oMeunbtP",
        "outputId": "716974e7-66a5-4be3-9866-ddd1b387316b",
        "colab": {
          "base_uri": "https://localhost:8080/",
          "height": 1000
        }
      },
      "source": [
        "par(family = (\"Microsoft YanHei\"))\n",
        "\n",
        "wordcloud(txt_freq$char, txt_freq$freq, min.freq = 2, random.order = F, ordered.colors = F, colors = rainbow(nrow(txt_freq)))"
      ],
      "execution_count": null,
      "outputs": [
        {
          "output_type": "stream",
          "text": [
            "Warning message in strwidth(words[i], cex = size[i], ...):\n",
            "“font family 'Microsoft YanHei' not found, will use 'wqy-microhei' instead”\n",
            "Warning message in strheight(words[i], cex = size[i], ...):\n",
            "“font family 'Microsoft YanHei' not found, will use 'sans' instead”\n",
            "Warning message in text.default(x1, y1, words[i], cex = size[i], offset = 0, srt = rotWord * :\n",
            "“font family 'Microsoft YanHei' not found, will use 'wqy-microhei' instead”\n",
            "Warning message in text.default(x1, y1, words[i], cex = size[i], offset = 0, srt = rotWord * :\n",
            "“font family 'Microsoft YanHei' not found, will use 'wqy-microhei' instead”\n",
            "Warning message in text.default(x1, y1, words[i], cex = size[i], offset = 0, srt = rotWord * :\n",
            "“font family 'Microsoft YanHei' not found, will use 'wqy-microhei' instead”\n",
            "Warning message in text.default(x1, y1, words[i], cex = size[i], offset = 0, srt = rotWord * :\n",
            "“font family 'Microsoft YanHei' not found, will use 'wqy-microhei' instead”\n",
            "Warning message in strwidth(words[i], cex = size[i], ...):\n",
            "“font family 'Microsoft YanHei' not found, will use 'wqy-microhei' instead”\n",
            "Warning message in text.default(x1, y1, words[i], cex = size[i], offset = 0, srt = rotWord * :\n",
            "“font family 'Microsoft YanHei' not found, will use 'wqy-microhei' instead”\n",
            "Warning message in text.default(x1, y1, words[i], cex = size[i], offset = 0, srt = rotWord * :\n",
            "“font family 'Microsoft YanHei' not found, will use 'wqy-microhei' instead”\n",
            "Warning message in text.default(x1, y1, words[i], cex = size[i], offset = 0, srt = rotWord * :\n",
            "“font family 'Microsoft YanHei' not found, will use 'wqy-microhei' instead”\n",
            "Warning message in text.default(x1, y1, words[i], cex = size[i], offset = 0, srt = rotWord * :\n",
            "“font family 'Microsoft YanHei' not found, will use 'wqy-microhei' instead”\n",
            "Warning message in strwidth(words[i], cex = size[i], ...):\n",
            "“font family 'Microsoft YanHei' not found, will use 'wqy-microhei' instead”\n",
            "Warning message in text.default(x1, y1, words[i], cex = size[i], offset = 0, srt = rotWord * :\n",
            "“font family 'Microsoft YanHei' not found, will use 'wqy-microhei' instead”\n",
            "Warning message in text.default(x1, y1, words[i], cex = size[i], offset = 0, srt = rotWord * :\n",
            "“font family 'Microsoft YanHei' not found, will use 'wqy-microhei' instead”\n",
            "Warning message in text.default(x1, y1, words[i], cex = size[i], offset = 0, srt = rotWord * :\n",
            "“font family 'Microsoft YanHei' not found, will use 'wqy-microhei' instead”\n",
            "Warning message in text.default(x1, y1, words[i], cex = size[i], offset = 0, srt = rotWord * :\n",
            "“font family 'Microsoft YanHei' not found, will use 'wqy-microhei' instead”\n",
            "Warning message in strwidth(words[i], cex = size[i], ...):\n",
            "“font family 'Microsoft YanHei' not found, will use 'wqy-microhei' instead”\n",
            "Warning message in strheight(words[i], cex = size[i], ...):\n",
            "“font family 'Microsoft YanHei' not found, will use 'sans' instead”\n",
            "Warning message in text.default(x1, y1, words[i], cex = size[i], offset = 0, srt = rotWord * :\n",
            "“font family 'Microsoft YanHei' not found, will use 'wqy-microhei' instead”\n",
            "Warning message in text.default(x1, y1, words[i], cex = size[i], offset = 0, srt = rotWord * :\n",
            "“font family 'Microsoft YanHei' not found, will use 'wqy-microhei' instead”\n",
            "Warning message in text.default(x1, y1, words[i], cex = size[i], offset = 0, srt = rotWord * :\n",
            "“font family 'Microsoft YanHei' not found, will use 'wqy-microhei' instead”\n",
            "Warning message in text.default(x1, y1, words[i], cex = size[i], offset = 0, srt = rotWord * :\n",
            "“font family 'Microsoft YanHei' not found, will use 'wqy-microhei' instead”\n",
            "Warning message in strwidth(words[i], cex = size[i], ...):\n",
            "“font family 'Microsoft YanHei' not found, will use 'wqy-microhei' instead”\n",
            "Warning message in text.default(x1, y1, words[i], cex = size[i], offset = 0, srt = rotWord * :\n",
            "“font family 'Microsoft YanHei' not found, will use 'wqy-microhei' instead”\n",
            "Warning message in text.default(x1, y1, words[i], cex = size[i], offset = 0, srt = rotWord * :\n",
            "“font family 'Microsoft YanHei' not found, will use 'wqy-microhei' instead”\n",
            "Warning message in text.default(x1, y1, words[i], cex = size[i], offset = 0, srt = rotWord * :\n",
            "“font family 'Microsoft YanHei' not found, will use 'wqy-microhei' instead”\n",
            "Warning message in text.default(x1, y1, words[i], cex = size[i], offset = 0, srt = rotWord * :\n",
            "“font family 'Microsoft YanHei' not found, will use 'wqy-microhei' instead”\n",
            "Warning message in strwidth(words[i], cex = size[i], ...):\n",
            "“font family 'Microsoft YanHei' not found, will use 'wqy-microhei' instead”\n",
            "Warning message in text.default(x1, y1, words[i], cex = size[i], offset = 0, srt = rotWord * :\n",
            "“font family 'Microsoft YanHei' not found, will use 'wqy-microhei' instead”\n",
            "Warning message in text.default(x1, y1, words[i], cex = size[i], offset = 0, srt = rotWord * :\n",
            "“font family 'Microsoft YanHei' not found, will use 'wqy-microhei' instead”\n",
            "Warning message in text.default(x1, y1, words[i], cex = size[i], offset = 0, srt = rotWord * :\n",
            "“font family 'Microsoft YanHei' not found, will use 'wqy-microhei' instead”\n",
            "Warning message in text.default(x1, y1, words[i], cex = size[i], offset = 0, srt = rotWord * :\n",
            "“font family 'Microsoft YanHei' not found, will use 'wqy-microhei' instead”\n",
            "Warning message in strwidth(words[i], cex = size[i], ...):\n",
            "“font family 'Microsoft YanHei' not found, will use 'wqy-microhei' instead”\n",
            "Warning message in text.default(x1, y1, words[i], cex = size[i], offset = 0, srt = rotWord * :\n",
            "“font family 'Microsoft YanHei' not found, will use 'wqy-microhei' instead”\n",
            "Warning message in text.default(x1, y1, words[i], cex = size[i], offset = 0, srt = rotWord * :\n",
            "“font family 'Microsoft YanHei' not found, will use 'wqy-microhei' instead”\n",
            "Warning message in text.default(x1, y1, words[i], cex = size[i], offset = 0, srt = rotWord * :\n",
            "“font family 'Microsoft YanHei' not found, will use 'wqy-microhei' instead”\n",
            "Warning message in text.default(x1, y1, words[i], cex = size[i], offset = 0, srt = rotWord * :\n",
            "“font family 'Microsoft YanHei' not found, will use 'wqy-microhei' instead”\n",
            "Warning message in text.default(x1, y1, words[i], cex = size[i], offset = 0, srt = rotWord * :\n",
            "“font family 'Microsoft YanHei' not found, will use 'wqy-microhei' instead”\n",
            "Warning message in strwidth(words[i], cex = size[i], ...):\n",
            "“font family 'Microsoft YanHei' not found, will use 'wqy-microhei' instead”\n",
            "Warning message in text.default(x1, y1, words[i], cex = size[i], offset = 0, srt = rotWord * :\n",
            "“font family 'Microsoft YanHei' not found, will use 'wqy-microhei' instead”\n",
            "Warning message in text.default(x1, y1, words[i], cex = size[i], offset = 0, srt = rotWord * :\n",
            "“font family 'Microsoft YanHei' not found, will use 'wqy-microhei' instead”\n",
            "Warning message in text.default(x1, y1, words[i], cex = size[i], offset = 0, srt = rotWord * :\n",
            "“font family 'Microsoft YanHei' not found, will use 'wqy-microhei' instead”\n",
            "Warning message in text.default(x1, y1, words[i], cex = size[i], offset = 0, srt = rotWord * :\n",
            "“font family 'Microsoft YanHei' not found, will use 'wqy-microhei' instead”\n",
            "Warning message in strwidth(words[i], cex = size[i], ...):\n",
            "“font family 'Microsoft YanHei' not found, will use 'wqy-microhei' instead”\n",
            "Warning message in text.default(x1, y1, words[i], cex = size[i], offset = 0, srt = rotWord * :\n",
            "“font family 'Microsoft YanHei' not found, will use 'wqy-microhei' instead”\n",
            "Warning message in text.default(x1, y1, words[i], cex = size[i], offset = 0, srt = rotWord * :\n",
            "“font family 'Microsoft YanHei' not found, will use 'wqy-microhei' instead”\n",
            "Warning message in text.default(x1, y1, words[i], cex = size[i], offset = 0, srt = rotWord * :\n",
            "“font family 'Microsoft YanHei' not found, will use 'wqy-microhei' instead”\n",
            "Warning message in text.default(x1, y1, words[i], cex = size[i], offset = 0, srt = rotWord * :\n",
            "“font family 'Microsoft YanHei' not found, will use 'wqy-microhei' instead”\n",
            "Warning message in text.default(x1, y1, words[i], cex = size[i], offset = 0, srt = rotWord * :\n",
            "“font family 'Microsoft YanHei' not found, will use 'wqy-microhei' instead”\n",
            "Warning message in text.default(x1, y1, words[i], cex = size[i], offset = 0, srt = rotWord * :\n",
            "“font family 'Microsoft YanHei' not found, will use 'wqy-microhei' instead”\n",
            "Warning message in strwidth(words[i], cex = size[i], ...):\n",
            "“font family 'Microsoft YanHei' not found, will use 'wqy-microhei' instead”\n",
            "Warning message in text.default(x1, y1, words[i], cex = size[i], offset = 0, srt = rotWord * :\n",
            "“font family 'Microsoft YanHei' not found, will use 'wqy-microhei' instead”\n",
            "Warning message in text.default(x1, y1, words[i], cex = size[i], offset = 0, srt = rotWord * :\n",
            "“font family 'Microsoft YanHei' not found, will use 'wqy-microhei' instead”\n",
            "Warning message in text.default(x1, y1, words[i], cex = size[i], offset = 0, srt = rotWord * :\n",
            "“font family 'Microsoft YanHei' not found, will use 'wqy-microhei' instead”\n",
            "Warning message in text.default(x1, y1, words[i], cex = size[i], offset = 0, srt = rotWord * :\n",
            "“font family 'Microsoft YanHei' not found, will use 'wqy-microhei' instead”\n",
            "Warning message in text.default(x1, y1, words[i], cex = size[i], offset = 0, srt = rotWord * :\n",
            "“font family 'Microsoft YanHei' not found, will use 'wqy-microhei' instead”\n",
            "Warning message in strwidth(words[i], cex = size[i], ...):\n",
            "“font family 'Microsoft YanHei' not found, will use 'wqy-microhei' instead”\n",
            "Warning message in text.default(x1, y1, words[i], cex = size[i], offset = 0, srt = rotWord * :\n",
            "“font family 'Microsoft YanHei' not found, will use 'wqy-microhei' instead”\n",
            "Warning message in text.default(x1, y1, words[i], cex = size[i], offset = 0, srt = rotWord * :\n",
            "“font family 'Microsoft YanHei' not found, will use 'wqy-microhei' instead”\n",
            "Warning message in text.default(x1, y1, words[i], cex = size[i], offset = 0, srt = rotWord * :\n",
            "“font family 'Microsoft YanHei' not found, will use 'wqy-microhei' instead”\n",
            "Warning message in text.default(x1, y1, words[i], cex = size[i], offset = 0, srt = rotWord * :\n",
            "“font family 'Microsoft YanHei' not found, will use 'wqy-microhei' instead”\n",
            "Warning message in strwidth(words[i], cex = size[i], ...):\n",
            "“font family 'Microsoft YanHei' not found, will use 'wqy-microhei' instead”\n",
            "Warning message in text.default(x1, y1, words[i], cex = size[i], offset = 0, srt = rotWord * :\n",
            "“font family 'Microsoft YanHei' not found, will use 'wqy-microhei' instead”\n",
            "Warning message in text.default(x1, y1, words[i], cex = size[i], offset = 0, srt = rotWord * :\n",
            "“font family 'Microsoft YanHei' not found, will use 'wqy-microhei' instead”\n",
            "Warning message in text.default(x1, y1, words[i], cex = size[i], offset = 0, srt = rotWord * :\n",
            "“font family 'Microsoft YanHei' not found, will use 'wqy-microhei' instead”\n",
            "Warning message in strwidth(words[i], cex = size[i], ...):\n",
            "“font family 'Microsoft YanHei' not found, will use 'wqy-microhei' instead”\n",
            "Warning message in text.default(x1, y1, words[i], cex = size[i], offset = 0, srt = rotWord * :\n",
            "“font family 'Microsoft YanHei' not found, will use 'wqy-microhei' instead”\n",
            "Warning message in text.default(x1, y1, words[i], cex = size[i], offset = 0, srt = rotWord * :\n",
            "“font family 'Microsoft YanHei' not found, will use 'wqy-microhei' instead”\n",
            "Warning message in text.default(x1, y1, words[i], cex = size[i], offset = 0, srt = rotWord * :\n",
            "“font family 'Microsoft YanHei' not found, will use 'wqy-microhei' instead”\n",
            "Warning message in text.default(x1, y1, words[i], cex = size[i], offset = 0, srt = rotWord * :\n",
            "“font family 'Microsoft YanHei' not found, will use 'wqy-microhei' instead”\n",
            "Warning message in strwidth(words[i], cex = size[i], ...):\n",
            "“font family 'Microsoft YanHei' not found, will use 'wqy-microhei' instead”\n",
            "Warning message in text.default(x1, y1, words[i], cex = size[i], offset = 0, srt = rotWord * :\n",
            "“font family 'Microsoft YanHei' not found, will use 'wqy-microhei' instead”\n",
            "Warning message in text.default(x1, y1, words[i], cex = size[i], offset = 0, srt = rotWord * :\n",
            "“font family 'Microsoft YanHei' not found, will use 'wqy-microhei' instead”\n",
            "Warning message in text.default(x1, y1, words[i], cex = size[i], offset = 0, srt = rotWord * :\n",
            "“font family 'Microsoft YanHei' not found, will use 'wqy-microhei' instead”\n",
            "Warning message in text.default(x1, y1, words[i], cex = size[i], offset = 0, srt = rotWord * :\n",
            "“font family 'Microsoft YanHei' not found, will use 'wqy-microhei' instead”\n",
            "Warning message in strwidth(words[i], cex = size[i], ...):\n",
            "“font family 'Microsoft YanHei' not found, will use 'wqy-microhei' instead”\n",
            "Warning message in text.default(x1, y1, words[i], cex = size[i], offset = 0, srt = rotWord * :\n",
            "“font family 'Microsoft YanHei' not found, will use 'wqy-microhei' instead”\n",
            "Warning message in text.default(x1, y1, words[i], cex = size[i], offset = 0, srt = rotWord * :\n",
            "“font family 'Microsoft YanHei' not found, will use 'wqy-microhei' instead”\n",
            "Warning message in text.default(x1, y1, words[i], cex = size[i], offset = 0, srt = rotWord * :\n",
            "“font family 'Microsoft YanHei' not found, will use 'wqy-microhei' instead”\n",
            "Warning message in text.default(x1, y1, words[i], cex = size[i], offset = 0, srt = rotWord * :\n",
            "“font family 'Microsoft YanHei' not found, will use 'wqy-microhei' instead”\n"
          ],
          "name": "stderr"
        },
        {
          "output_type": "display_data",
          "data": {
            "image/png": "[encoded data removed]",
            "text/plain": [
              "plot without title"
            ]
          },
          "metadata": {
            "tags": [],
            "image/png": {
              "width": 420,
              "height": 420
            }
          }
        }
      ]
    }
  ]
}