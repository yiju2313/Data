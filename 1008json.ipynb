{
  "nbformat": 4,
  "nbformat_minor": 0,
  "metadata": {
    "colab": {
      "name": "1008json.ipynb",
      "provenance": [],
      "collapsed_sections": [],
      "include_colab_link": true
    },
    "kernelspec": {
      "name": "ir",
      "display_name": "R"
    }
  },
  "cells": [
    {
      "cell_type": "markdown",
      "metadata": {
        "id": "view-in-github",
        "colab_type": "text"
      },
      "source": [
        "<a href=\"https://colab.research.google.com/github/yiju2313/Data/blob/master/1008json.ipynb\" target=\"_parent\"><img src=\"https://colab.research.google.com/assets/colab-badge.svg\" alt=\"Open In Colab\"/></a>"
      ]
    },
    {
      "cell_type": "code",
      "metadata": {
        "id": "HNNEtxZqhJj9",
        "outputId": "7858dfa6-4d13-4046-edc4-9d70c3163de4",
        "colab": {
          "base_uri": "https://localhost:8080/",
          "height": 68
        }
      },
      "source": [
        "install.packages(\"jsonlite\")"
      ],
      "execution_count": 3,
      "outputs": [
        {
          "output_type": "stream",
          "text": [
            "Installing package into ‘/usr/local/lib/R/site-library’\n",
            "(as ‘lib’ is unspecified)\n",
            "\n"
          ],
          "name": "stderr"
        }
      ]
    },
    {
      "cell_type": "code",
      "metadata": {
        "id": "LKihfDsOhY-m"
      },
      "source": [
        "library(\"jsonlite\")"
      ],
      "execution_count": 5,
      "outputs": []
    },
    {
      "cell_type": "code",
      "metadata": {
        "id": "EOIhJNlEhmmA"
      },
      "source": [
        "PetData <- jsonlite::fromJSON(\"https://data.taipei/opendata/datalist/apiAccess?scope=resourceAquire&rid=f4a75ba9-7721-4363-884d-c3820b0b917c\")"
      ],
      "execution_count": 9,
      "outputs": []
    },
    {
      "cell_type": "code",
      "metadata": {
        "id": "2-UdGXHliJmg",
        "outputId": "91547013-f4c7-4343-e3cb-1e8aaf42e5e8",
        "colab": {
          "base_uri": "https://localhost:8080/",
          "height": 496
        }
      },
      "source": [
        "str(PetData)"
      ],
      "execution_count": 10,
      "outputs": [
        {
          "output_type": "stream",
          "text": [
            "List of 1\n",
            " $ result:List of 5\n",
            "  ..$ limit  : int 1000\n",
            "  ..$ offset : int 0\n",
            "  ..$ count  : int 365\n",
            "  ..$ sort   : chr \"\"\n",
            "  ..$ results:'data.frame':\t365 obs. of  20 variables:\n",
            "  .. ..$ AcceptNum      : chr [1:365] \"106060601\" \"106060401\" \"106060210\" \"106060207\" ...\n",
            "  .. ..$ IsSterilization: chr [1:365] \"未絕育\" \"已絕育\" \"未絕育\" \"未絕育\" ...\n",
            "  .. ..$ Name           : chr [1:365] \"\" \"\" \"俊俊\" \"小莊\" ...\n",
            "  .. ..$ Variety        : chr [1:365] \"米克斯\" \"米克斯\" \"米克斯\" \"米克斯\" ...\n",
            "  .. ..$ Age            : chr [1:365] \"成年\" \"成年\" \"成年\" \"成年\" ...\n",
            "  .. ..$ ChildreAnlong  : chr [1:365] \"\" \"\" \"\" \"\" ...\n",
            "  .. ..$ Resettlement   : chr [1:365] \"臺北市動物之家 收容編號106060601\" \"\" \"臺北市動物之家 收容編號106060210\" \"臺北市動物之家 收容編號106060207\" ...\n",
            "  .. ..$ Sex            : chr [1:365] \"雄\" \"雌\" \"雄\" \"雄\" ...\n",
            "  .. ..$ Note           : chr [1:365] \"左剪耳 輕微脫水 精神食慾不佳\" \"\" \"嗨~~我的名字叫俊俊，希望帥氣的我可以受您的青睞，快來動物之家看看我吧!\\n\" \"哈囉~我的名字叫小莊，目前我在動物之家生活，希望能快快找到，願意認養我的人來帶我回家!!\\n\" ...\n",
            "  .. ..$ Phone          : chr [1:365] \"02-87913063\" \"\" \"02-87913062\" \"02-87913062\" ...\n",
            "  .. ..$ Reason         : chr [1:365] \"民眾不擬續養\" \"民眾不擬續養\" \"動物管制\" \"動物管制\" ...\n",
            "  .. ..$ ImageName      : chr [1:365] \"http://163.29.39.183/uploads/images/medium/c0f66294-143c-4406-8714-2e6764352b13.jpg\" \"http://163.29.39.183/uploads/images/medium/4ffa231f-3108-43c1-8ccf-b8578bdf1e1a.jpg\" \"http://163.29.39.183/uploads/images/medium/e68771df-747e-4544-846a-bdd6099e7f90.jpg\" \"http://163.29.39.183/uploads/images/medium/fd75d049-5310-4016-b1f4-71d69c4a9912.jpg\" ...\n",
            "  .. ..$ HairType       : chr [1:365] \"虎斑白\" \"黃白\" \"黃白\" \"黃\" ...\n",
            "  .. ..$ Build          : chr [1:365] \"中\" \"中\" \"中\" \"中\" ...\n",
            "  .. ..$ AnimalAnlong   : chr [1:365] \"\" \"\" \"\" \"\" ...\n",
            "  .. ..$ ChipNum        : chr [1:365] \"900073000086900\" \"900073000086481\" \"\" \"\" ...\n",
            "  .. ..$ _id            : int [1:365] 1 2 3 4 5 6 7 8 9 10 ...\n",
            "  .. ..$ Type           : chr [1:365] \"貓\" \"貓\" \"貓\" \"貓\" ...\n",
            "  .. ..$ Email          : chr [1:365] \"tcapoa8@mail.taipei.gov.tw\" \"\" \"tcapoa8@mail.taipei.gov.tw\" \"tcapoa8@mail.taipei.gov.tw\" ...\n",
            "  .. ..$ Bodyweight     : chr [1:365] \"\" \"\" \"\" \"\" ...\n"
          ],
          "name": "stdout"
        }
      ]
    },
    {
      "cell_type": "code",
      "metadata": {
        "id": "2cv4uw6MisIE",
        "outputId": "16edb25e-6bb1-44dd-a7ed-19926e1cec55",
        "colab": {
          "base_uri": "https://localhost:8080/",
          "height": 68
        }
      },
      "source": [
        "table(PetData$result$results$Reason)"
      ],
      "execution_count": 11,
      "outputs": [
        {
          "output_type": "display_data",
          "data": {
            "text/plain": [
              "\n",
              "                 動物救援     動物管制 民眾不擬續養     民眾拾獲 \n",
              "          28          109          155           50           23 "
            ]
          },
          "metadata": {
            "tags": []
          }
        }
      ]
    },
    {
      "cell_type": "code",
      "metadata": {
        "id": "Xc10_zomjRgH",
        "outputId": "bc9e7517-3f50-4d52-8623-5ec7581705ac",
        "colab": {
          "base_uri": "https://localhost:8080/",
          "height": 68
        }
      },
      "source": [
        "table(PetData$result$results$Sex)"
      ],
      "execution_count": 12,
      "outputs": [
        {
          "output_type": "display_data",
          "data": {
            "text/plain": [
              "\n",
              " 雄  雌 \n",
              "190 175 "
            ]
          },
          "metadata": {
            "tags": []
          }
        }
      ]
    },
    {
      "cell_type": "code",
      "metadata": {
        "id": "x4GIIKkkjXDp",
        "outputId": "e0b1fde8-2cf3-4e2e-f31f-7b11448ba5b4",
        "colab": {
          "base_uri": "https://localhost:8080/",
          "height": 68
        }
      },
      "source": [
        "table(PetData$result$results$IsSterilization)"
      ],
      "execution_count": 13,
      "outputs": [
        {
          "output_type": "display_data",
          "data": {
            "text/plain": [
              "\n",
              "已絕育 未絕育 \n",
              "   151    214 "
            ]
          },
          "metadata": {
            "tags": []
          }
        }
      ]
    },
    {
      "cell_type": "code",
      "metadata": {
        "id": "GQ0e_nu6je4o",
        "outputId": "f72f5de3-5d80-42f9-b9f1-4f89b39b8f3e",
        "colab": {
          "base_uri": "https://localhost:8080/",
          "height": 68
        }
      },
      "source": [
        "table(PetData$result$results$Type)"
      ],
      "execution_count": 14,
      "outputs": [
        {
          "output_type": "display_data",
          "data": {
            "text/plain": [
              "\n",
              "其他   犬   貓 \n",
              "  62  187  116 "
            ]
          },
          "metadata": {
            "tags": []
          }
        }
      ]
    },
    {
      "cell_type": "code",
      "metadata": {
        "id": "R6ipgYKLj4Dw",
        "outputId": "3157d254-c525-4d04-ba6b-84b36e53b487",
        "colab": {
          "base_uri": "https://localhost:8080/",
          "height": 1000
        }
      },
      "source": [
        "table(PetData$result$results$Name)"
      ],
      "execution_count": 15,
      "outputs": [
        {
          "output_type": "display_data",
          "data": {
            "text/plain": [
              "\n",
              "                 (深情)款款         Alpha          ARRY          ASSA \n",
              "           44             1             1             1             1 \n",
              "        Bendy       Candies          Copy          Eddy         Greta \n",
              "            1             1             1             1             1 \n",
              "         Judy          Lili           M&M        MaLuco         Marty \n",
              "            1             1             1             1             1 \n",
              "        momo           Nana          Nick          Puma          Rose \n",
              "            1             1             1             1             1 \n",
              "         ROSE       Valerie     Vita/牛牛          一郎          三寶 \n",
              "            1             1             1             1             1 \n",
              "         丸子          乖黃          亞瑟          亞當          仔仔 \n",
              "            1             1             1             1             1 \n",
              "         仙子          伊芙        佛萊迪          來富          來福 \n",
              "            1             1             1             1             1 \n",
              "         依蘭          俊俊          傑森          優紀      元來如此 \n",
              "            1             1             1             1             1 \n",
              "         冬桔          凱吉          凱撒        利瑪竇          包子 \n",
              "            1             1             1             1             1 \n",
              "   南投猴你勇          南風          卡斯      口齒不清          叮叮 \n",
              "            1             1             1             1             1 \n",
              "       史丹利          吉哥          吉好          吉米          呆呆 \n",
              "            1             1             1             1             1 \n",
              "     和德何能  和必在乎是誰    和必這麼兇    和日君再來      和樂融融 \n",
              "            1             1             1             1             1 \n",
              "     和氣生財          善善          喜德          喬妹          喬琪 \n",
              "            1             1             1             1             1 \n",
              "           嗄          嘿咩 四神湯/阿湯哥          土土          土豆 \n",
              "            1             1             1             1             1 \n",
              "         地瓜          坦克          壯虎          多多          多寶 \n",
              "            1             1             1             1             1 \n",
              "         大丹        大乖乖          大佳          大俠          大東 \n",
              "            1             1             1             1             1 \n",
              "     大隊接力          奇奇          奕奕        奧斯汀          好橙 \n",
              "            1             1             1             1             1 \n",
              "         妙妙          妞妞         妮妮           妍妍          威利 \n",
              "            1             1             1             1             2 \n",
              "         嬌嬌          安亞          安和          富陽          寶來 \n",
              "            1             1             1             1             1 \n",
              "         寶妹          寶弟          小乖          小傑          小凝 \n",
              "            1             1             1             1             1 \n",
              "         小咪          小喬        小太陽          小威          小安 \n",
              "            1             1             1             1             1 \n",
              "         小恩          小明          小桃          小機        小清新 \n",
              "            1             1             1             1             1 \n",
              "         小炎          小猛          小琪          小白          小穩 \n",
              "            1             1             1             1             1 \n",
              "         小羽          小茉          小草          小莊          小菲 \n",
              "            1             1             1             1             2 \n",
              "         小虎          小鹿          小黑          尬車        就搗蛋 \n",
              "            1             1             2             1             1 \n",
              "         山姆          山迪      山頂洞人          左左          巴布 \n",
              "            1             1             1             1             1 \n",
              "         帥帥          年糕          弟弟          心光        怕老婆 \n",
              "            2             1             1             1             1 \n",
              "         悠悠        愛哭鬼          愛莉         拉Key          拉奇 \n",
              "            1             1             1             1             1 \n",
              "         拉斯          拿鐵     搭波溜·嘻          斑恩          斑斑 \n",
              "            1             1             1             1             1 \n",
              "         斑花          斑醬          景雲          書桌          書籤 \n",
              "            1             1             1             1             1 \n",
              "         木耳        柏拉圖          柔柔            桐          桑葚 \n",
              "            1             1             2             1             1 \n",
              "         梅花          森田        橡皮擦          檸檬        歐優優 \n",
              "            1             1             1             1             1 \n",
              "       歐吉桑          歐桃          歐美          歐雅          毛毛 \n",
              "            1             1             1             1             1 \n",
              "         毛球      永不妥協          永伯      永字八法      永浴愛河 \n",
              "            1             1             1             1             1 \n",
              "       河東獅          泉泉          波特        流星雨          淘淘 \n",
              "            1             1             1             1             1 \n",
              "         溫蒂          漏風          濱江          灰仔        烏啦啦 \n",
              "            1             1             1             1             1 \n",
              "         烏莉          熊大          爵士          爺比          牛奶 \n",
              "            1             2             1             1             3 \n",
              "         牛牛      牧羊少年        猴嗨森        猴猴眉          王妃 \n",
              "            1             1             1             1             1 \n",
              "         玫瑰          玫莉          珊芝          琇琇          琥碧 \n",
              "            1             1             1             1             1 \n",
              "         琪妍          瑞莎          瑪麗          環肥          瓏瓏 \n",
              "            1             1             1             1             1 \n",
              "         瓦諾        甘道夫        甜心糖          盼盼          瞳瞳 \n",
              "            1             1             1             1             1 \n",
              "         石榴          砂糖          祐明          福哥      萬抹兔抹 \n",
              "            1             1             1             1             1 \n",
              "         米奇        米老鼠          米雪        紡織娘        總司令 \n",
              "            1             1             1             1             1 \n",
              "         美娜          美荷        肥滋滋          胖丁          胡椒 \n",
              "            1             1             1             1             1 \n",
              "     胸懷大志        腳趾頭         艾倫           艾沙          艾莎 \n",
              "            1             1             1             1             1 \n",
              "         芝麻          芬達        芭芭拉          芮娜          花俏 \n",
              "            1             1             1             1             1 \n",
              "         花菇          芽美          苳珊          荳花          莎拉 \n",
              "            1             1             1             1             1 \n",
              "         莎莎      莒光園地          菁菁          華江          萱萱 \n",
              "            1             1             1             1             1 \n",
              "         董仔      蓮花妹妹          薇琪          蘇珊           蘭C \n",
              "            1             1             1             1             1 \n",
              "          蘭D          蘭咪        蘭心湄          蛋頭          蛋黃 \n",
              "            1             1             1             1             1 \n",
              "       蛋黃哥          西蒙      警衛阿姨          豆豆    豬尾巴金金 \n",
              "            1             1             1             1             1 \n",
              "         貝貝        貪吃鬼        賈桂琳        趙不住    趙子放亮點 \n",
              "            1             1             1             1             1 \n",
              "     趙干那杯        趙得柱   趙杯·不辣甲        趙燒醬        趙豬養 \n",
              "            1             1             1             1             1 \n",
              "         迪迪          迷純        週年慶      遍地黃金          達達 \n",
              "            2             1             1             1             1 \n",
              "    里拉/Ella          金兒          金花          錢錢        鐵灰銀 \n",
              "            1             1             1             1             1 \n",
              "     門清自摸          門門          阿凡          阿利          阿呆 \n",
              "            1             1             1             1             1 \n",
              "         阿咪          阿寶          阿拓          阿水          阿美 \n",
              "            1             1             1             1             1 \n",
              "         阿舍          阿薰      雄壯威武        雄寶貝          雅各 \n",
              "            1             1             1             1             1 \n",
              "   雅各 Jacob          雪寶          霖霖          青茶          韋德 \n",
              "            1             1             1             1             1 \n",
              "         順順        顏如玉        風熱友          饅頭          香菜 \n",
              "            1             1             1             1             1 \n",
              "         馬尼          骨骨          麥茶          黃瓜        黑小白 \n",
              "            1             1             1             1             1 \n",
              "       黑白切          黑皮          黑莓          黑虎          黑豆 \n",
              "            1             1             1             1             1 \n",
              "         黑酷        黑麻麻          點點 \n",
              "            1             1             1 "
            ]
          },
          "metadata": {
            "tags": []
          }
        }
      ]
    }
  ]
}