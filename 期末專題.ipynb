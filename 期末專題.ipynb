{
  "nbformat": 4,
  "nbformat_minor": 0,
  "metadata": {
    "colab": {
      "name": "期末專題",
      "provenance": [],
      "collapsed_sections": [],
      "include_colab_link": true
    },
    "kernelspec": {
      "name": "ir",
      "display_name": "R"
    }
  },
  "cells": [
    {
      "cell_type": "markdown",
      "metadata": {
        "id": "view-in-github",
        "colab_type": "text"
      },
      "source": [
        "<a href=\"https://colab.research.google.com/github/yiju2313/Data/blob/master/%E6%9C%9F%E6%9C%AB%E5%B0%88%E9%A1%8C.ipynb\" target=\"_parent\"><img src=\"https://colab.research.google.com/assets/colab-badge.svg\" alt=\"Open In Colab\"/></a>"
      ]
    },
    {
      "cell_type": "code",
      "metadata": {
        "id": "S9FwY8mVDqxl",
        "outputId": "0e9f5eb3-ffce-4a79-e855-dd9f8303de6d",
        "colab": {
          "base_uri": "https://localhost:8080/"
        }
      },
      "source": [
        "install.packages (\"ggplot2\")\r\n",
        "install.packages(\"readr\")"
      ],
      "execution_count": 3,
      "outputs": [
        {
          "output_type": "stream",
          "text": [
            "Installing package into ‘/usr/local/lib/R/site-library’\n",
            "(as ‘lib’ is unspecified)\n",
            "\n",
            "Installing package into ‘/usr/local/lib/R/site-library’\n",
            "(as ‘lib’ is unspecified)\n",
            "\n"
          ],
          "name": "stderr"
        }
      ]
    },
    {
      "cell_type": "code",
      "metadata": {
        "id": "2yAvPwf9D0Wk"
      },
      "source": [
        "library (ggplot2)\r\n",
        "library(readr)"
      ],
      "execution_count": 4,
      "outputs": []
    },
    {
      "cell_type": "code",
      "metadata": {
        "id": "-RSGTL-TEfI1",
        "outputId": "a83bf9ae-bb44-404b-a113-5e4b42eb0909",
        "colab": {
          "base_uri": "https://localhost:8080/"
        }
      },
      "source": [
        "department <- read.csv(\"學門.csv\")\r\n",
        "str(department)"
      ],
      "execution_count": 5,
      "outputs": [
        {
          "output_type": "stream",
          "text": [
            "'data.frame':\t20 obs. of  14 variables:\n",
            " $ 學門代碼                                            : int  14 21 22 23 31 32 34 38 42 44 ...\n",
            " $ 學門名稱                                            : chr  \"教育學門\" \"藝術學門\" \"人文學門\" \"設計學門\" ...\n",
            " $ X99學年度畢業生102薪資年博士未滿35歲平均薪資        : int  74639 77731 69552 NA 78690 NA 78496 NA 64728 76288 ...\n",
            " $ X99學年度畢業生102薪資年博士35歲以上平均薪資        : int  94095 80128 86547 92041 83211 86039 105010 100951 103727 84258 ...\n",
            " $ X99學年度畢業生103薪資年博士未滿35歲平均薪資        : int  78191 78044 70010 NA 78541 NA 85310 NA 69604 86991 ...\n",
            " $ X99學年度畢業生103薪資年博士35歲以上平均薪資        : int  96410 82705 88667 95599 84920 82051 110197 97918 111293 86713 ...\n",
            " $ X100學年度畢業生103薪資年博士未滿35歲平均薪資       : int  67604 NA 69199 92075 69357 NA 72800 NA 64787 80723 ...\n",
            " $ X100學年度畢業生103薪資年博士35歲以上平均薪資       : int  94261 76176 80879 87392 88616 93519 104547 116808 89242 91188 ...\n",
            " $ X99學年度畢業生102薪資年博士未滿35歲已投入職場比率. : chr  \"97.14%\" \"100.00%\" \"89.58%\" \"\" ...\n",
            " $ X99學年度畢業生102薪資年博士35歲以上已投入職場比率. : chr  \"94.81%\" \"88.89%\" \"94.41%\" \"100.00%\" ...\n",
            " $ X99學年度畢業生103薪資年博士未滿35歲已投入職場比率. : chr  \"97.14%\" \"100.00%\" \"89.58%\" \"\" ...\n",
            " $ X99學年度畢業生103薪資年博士35歲以上已投入職場比率. : chr  \"93.87%\" \"88.89%\" \"93.30%\" \"100.00%\" ...\n",
            " $ X100學年度畢業生103薪資年博士未滿35歲已投入職場比率.: chr  \"100.00%\" \"\" \"90.48%\" \"100.00%\" ...\n",
            " $ X100學年度畢業生103薪資年博士35歲以上已投入職場比率.: chr  \"93.53%\" \"89.47%\" \"88.69%\" \"94.44%\" ...\n"
          ],
          "name": "stdout"
        }
      ]
    },
    {
      "cell_type": "code",
      "metadata": {
        "id": "_otrVX40E9pd"
      },
      "source": [
        ""
      ],
      "execution_count": null,
      "outputs": []
    }
  ]
}